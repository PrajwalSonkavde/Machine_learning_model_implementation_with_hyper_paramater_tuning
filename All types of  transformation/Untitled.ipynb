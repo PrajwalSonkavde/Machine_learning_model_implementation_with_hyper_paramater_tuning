{
 "cells": [
  {
   "cell_type": "code",
   "execution_count": 2,
   "id": "8361bce7",
   "metadata": {},
   "outputs": [],
   "source": [
    "import pandas as pd\n",
    "import numpy as np\n",
    "import matplotlib.pyplot as plt"
   ]
  },
  {
   "cell_type": "code",
   "execution_count": 5,
   "id": "3584e9ce",
   "metadata": {},
   "outputs": [
    {
     "data": {
      "text/html": [
       "<div>\n",
       "<style scoped>\n",
       "    .dataframe tbody tr th:only-of-type {\n",
       "        vertical-align: middle;\n",
       "    }\n",
       "\n",
       "    .dataframe tbody tr th {\n",
       "        vertical-align: top;\n",
       "    }\n",
       "\n",
       "    .dataframe thead th {\n",
       "        text-align: right;\n",
       "    }\n",
       "</style>\n",
       "<table border=\"1\" class=\"dataframe\">\n",
       "  <thead>\n",
       "    <tr style=\"text-align: right;\">\n",
       "      <th></th>\n",
       "      <th>Survived</th>\n",
       "      <th>Pclass</th>\n",
       "      <th>Age</th>\n",
       "      <th>Fare</th>\n",
       "    </tr>\n",
       "  </thead>\n",
       "  <tbody>\n",
       "    <tr>\n",
       "      <th>0</th>\n",
       "      <td>0</td>\n",
       "      <td>3</td>\n",
       "      <td>22.0</td>\n",
       "      <td>7.2500</td>\n",
       "    </tr>\n",
       "    <tr>\n",
       "      <th>1</th>\n",
       "      <td>1</td>\n",
       "      <td>1</td>\n",
       "      <td>38.0</td>\n",
       "      <td>71.2833</td>\n",
       "    </tr>\n",
       "    <tr>\n",
       "      <th>2</th>\n",
       "      <td>1</td>\n",
       "      <td>3</td>\n",
       "      <td>26.0</td>\n",
       "      <td>7.9250</td>\n",
       "    </tr>\n",
       "    <tr>\n",
       "      <th>3</th>\n",
       "      <td>1</td>\n",
       "      <td>1</td>\n",
       "      <td>35.0</td>\n",
       "      <td>53.1000</td>\n",
       "    </tr>\n",
       "    <tr>\n",
       "      <th>4</th>\n",
       "      <td>0</td>\n",
       "      <td>3</td>\n",
       "      <td>35.0</td>\n",
       "      <td>8.0500</td>\n",
       "    </tr>\n",
       "  </tbody>\n",
       "</table>\n",
       "</div>"
      ],
      "text/plain": [
       "   Survived  Pclass   Age     Fare\n",
       "0         0       3  22.0   7.2500\n",
       "1         1       1  38.0  71.2833\n",
       "2         1       3  26.0   7.9250\n",
       "3         1       1  35.0  53.1000\n",
       "4         0       3  35.0   8.0500"
      ]
     },
     "execution_count": 5,
     "metadata": {},
     "output_type": "execute_result"
    }
   ],
   "source": [
    "df = pd.read_csv(\"train.csv\",usecols=['Pclass','Age','Fare','Survived'])\n",
    "df.head()"
   ]
  },
  {
   "cell_type": "code",
   "execution_count": 6,
   "id": "2f97a8ed",
   "metadata": {},
   "outputs": [
    {
     "data": {
      "text/plain": [
       "Survived      0\n",
       "Pclass        0\n",
       "Age         177\n",
       "Fare          0\n",
       "dtype: int64"
      ]
     },
     "execution_count": 6,
     "metadata": {},
     "output_type": "execute_result"
    }
   ],
   "source": [
    "df.isnull().sum()"
   ]
  },
  {
   "cell_type": "code",
   "execution_count": 7,
   "id": "989cc818",
   "metadata": {},
   "outputs": [
    {
     "name": "stdout",
     "output_type": "stream",
     "text": [
      "<class 'pandas.core.frame.DataFrame'>\n",
      "RangeIndex: 891 entries, 0 to 890\n",
      "Data columns (total 4 columns):\n",
      " #   Column    Non-Null Count  Dtype  \n",
      "---  ------    --------------  -----  \n",
      " 0   Survived  891 non-null    int64  \n",
      " 1   Pclass    891 non-null    int64  \n",
      " 2   Age       714 non-null    float64\n",
      " 3   Fare      891 non-null    float64\n",
      "dtypes: float64(2), int64(2)\n",
      "memory usage: 28.0 KB\n"
     ]
    }
   ],
   "source": [
    "df.info()"
   ]
  },
  {
   "cell_type": "code",
   "execution_count": 8,
   "id": "8d9a8d00",
   "metadata": {},
   "outputs": [],
   "source": [
    "df['Age'].fillna(df.Age.median(),inplace=True)"
   ]
  },
  {
   "cell_type": "code",
   "execution_count": 9,
   "id": "939fc37e",
   "metadata": {},
   "outputs": [
    {
     "data": {
      "text/html": [
       "<div>\n",
       "<style scoped>\n",
       "    .dataframe tbody tr th:only-of-type {\n",
       "        vertical-align: middle;\n",
       "    }\n",
       "\n",
       "    .dataframe tbody tr th {\n",
       "        vertical-align: top;\n",
       "    }\n",
       "\n",
       "    .dataframe thead th {\n",
       "        text-align: right;\n",
       "    }\n",
       "</style>\n",
       "<table border=\"1\" class=\"dataframe\">\n",
       "  <thead>\n",
       "    <tr style=\"text-align: right;\">\n",
       "      <th></th>\n",
       "      <th>Survived</th>\n",
       "      <th>Pclass</th>\n",
       "      <th>Age</th>\n",
       "      <th>Fare</th>\n",
       "    </tr>\n",
       "  </thead>\n",
       "  <tbody>\n",
       "    <tr>\n",
       "      <th>0</th>\n",
       "      <td>0</td>\n",
       "      <td>3</td>\n",
       "      <td>22.0</td>\n",
       "      <td>7.2500</td>\n",
       "    </tr>\n",
       "    <tr>\n",
       "      <th>1</th>\n",
       "      <td>1</td>\n",
       "      <td>1</td>\n",
       "      <td>38.0</td>\n",
       "      <td>71.2833</td>\n",
       "    </tr>\n",
       "    <tr>\n",
       "      <th>2</th>\n",
       "      <td>1</td>\n",
       "      <td>3</td>\n",
       "      <td>26.0</td>\n",
       "      <td>7.9250</td>\n",
       "    </tr>\n",
       "    <tr>\n",
       "      <th>3</th>\n",
       "      <td>1</td>\n",
       "      <td>1</td>\n",
       "      <td>35.0</td>\n",
       "      <td>53.1000</td>\n",
       "    </tr>\n",
       "    <tr>\n",
       "      <th>4</th>\n",
       "      <td>0</td>\n",
       "      <td>3</td>\n",
       "      <td>35.0</td>\n",
       "      <td>8.0500</td>\n",
       "    </tr>\n",
       "  </tbody>\n",
       "</table>\n",
       "</div>"
      ],
      "text/plain": [
       "   Survived  Pclass   Age     Fare\n",
       "0         0       3  22.0   7.2500\n",
       "1         1       1  38.0  71.2833\n",
       "2         1       3  26.0   7.9250\n",
       "3         1       1  35.0  53.1000\n",
       "4         0       3  35.0   8.0500"
      ]
     },
     "execution_count": 9,
     "metadata": {},
     "output_type": "execute_result"
    }
   ],
   "source": [
    "df.head()"
   ]
  },
  {
   "cell_type": "code",
   "execution_count": 10,
   "id": "2e34f7a8",
   "metadata": {},
   "outputs": [],
   "source": [
    "x= df.drop(['Survived'],axis=1)\n",
    "y=df['Survived']"
   ]
  },
  {
   "cell_type": "code",
   "execution_count": 11,
   "id": "7c9de445",
   "metadata": {},
   "outputs": [],
   "source": [
    "from sklearn.model_selection import train_test_split\n",
    "\n",
    "x_train , x_test , y_train , y_test = train_test_split(x,y,test_size=0.2,random_state=42)"
   ]
  },
  {
   "cell_type": "markdown",
   "id": "067ed8f2",
   "metadata": {},
   "source": [
    "# Standard Scaler"
   ]
  },
  {
   "cell_type": "code",
   "execution_count": 12,
   "id": "8b9d35f3",
   "metadata": {},
   "outputs": [],
   "source": [
    "from sklearn.preprocessing import StandardScaler"
   ]
  },
  {
   "cell_type": "code",
   "execution_count": 13,
   "id": "cbed8e09",
   "metadata": {},
   "outputs": [],
   "source": [
    "sc = StandardScaler()\n",
    "x_train_scaler = sc.fit_transform(x_train)"
   ]
  },
  {
   "cell_type": "code",
   "execution_count": 14,
   "id": "241fea90",
   "metadata": {},
   "outputs": [
    {
     "data": {
      "text/plain": [
       "array([[-1.61413602,  1.25364106, -0.07868358],\n",
       "       [-0.40055118, -0.47728355, -0.37714494],\n",
       "       [ 0.81303367,  0.21508629, -0.47486697],\n",
       "       ...,\n",
       "       [ 0.81303367,  0.90745614, -0.35580399],\n",
       "       [-1.61413602, -1.1696534 ,  1.68320121],\n",
       "       [-1.61413602, -0.63114352,  0.86074761]])"
      ]
     },
     "execution_count": 14,
     "metadata": {},
     "output_type": "execute_result"
    }
   ],
   "source": [
    "x_train_scaler"
   ]
  },
  {
   "cell_type": "code",
   "execution_count": 15,
   "id": "bc741a43",
   "metadata": {},
   "outputs": [
    {
     "data": {
      "text/plain": [
       "array([[ 8.13033667e-01, -9.26336398e-02, -3.33900778e-01],\n",
       "       [-4.00551178e-01,  1.38156309e-01, -4.25283869e-01],\n",
       "       [ 8.13033667e-01, -7.08073503e-01, -4.74866965e-01],\n",
       "       [-4.00551178e-01, -1.78509326e+00,  7.96648968e-03],\n",
       "       [ 8.13033667e-01, -1.16965340e+00, -4.11002011e-01],\n",
       "       [-1.61413602e+00, -2.46493606e-01,  8.90834443e-01],\n",
       "       [ 8.13033667e-01, -9.26336398e-02, -4.78236690e-01],\n",
       "       [ 8.13033667e-01, -1.01579343e+00, -2.80867083e-01],\n",
       "       [ 8.13033667e-01, -1.01579343e+00, -4.78236690e-01],\n",
       "       [-1.61413602e+00, -7.85003486e-01, -1.21367407e-01],\n",
       "       [-1.61413602e+00,  5.99736206e-01,  3.95003477e-01],\n",
       "       [ 8.13033667e-01,  1.13824609e+00, -4.72460019e-01],\n",
       "       [ 8.13033667e-01, -9.26336398e-02, -1.37091507e-01],\n",
       "       [ 8.13033667e-01,  6.12263260e-02, -4.88345865e-01],\n",
       "       [-4.00551178e-01,  5.22806223e-01, -3.77144940e-01],\n",
       "       [-1.61413602e+00, -1.01579343e+00,  1.31202147e-01],\n",
       "       [-1.61413602e+00,  9.84386120e-01,  3.84493786e-01],\n",
       "       [ 8.13033667e-01, -9.26336398e-02, -4.76711649e-01],\n",
       "       [-4.00551178e-01, -1.69563623e-01, -3.77144940e-01],\n",
       "       [-1.61413602e+00,  1.36903603e+00,  3.73822348e-01],\n",
       "       [ 8.13033667e-01, -4.00353571e-01, -4.75429228e-01],\n",
       "       [-1.61413602e+00,  3.68946257e-01, -1.16231946e-01],\n",
       "       [ 8.13033667e-01, -7.85003486e-01, -4.76230260e-01],\n",
       "       [ 8.13033667e-01, -7.08073503e-01, -4.49834723e-01],\n",
       "       [ 8.13033667e-01, -9.26336398e-02, -3.48261583e-01],\n",
       "       [ 8.13033667e-01, -1.47737333e+00, -9.02369249e-02],\n",
       "       [-1.61413602e+00,  8.30526155e-01, -9.36875233e-02],\n",
       "       [-4.00551178e-01,  1.38156309e-01, -3.77144940e-01],\n",
       "       [ 8.13033667e-01, -1.93895323e+00, -9.02369249e-02],\n",
       "       [ 8.13033667e-01,  1.38156309e-01, -4.76230260e-01],\n",
       "       [ 8.13033667e-01, -7.85003486e-01, -4.75429228e-01],\n",
       "       [ 8.13033667e-01, -5.54213537e-01, -4.78236690e-01],\n",
       "       [-1.61413602e+00, -9.26336398e-02, -3.64021981e-02],\n",
       "       [ 8.13033667e-01, -9.26336398e-02, -4.82087805e-01],\n",
       "       [ 8.13033667e-01, -8.61933468e-01, -4.72460019e-01],\n",
       "       [ 8.13033667e-01, -1.69563623e-01, -3.49143488e-01],\n",
       "       [-1.61413602e+00, -9.26336398e-02,  5.61054184e-02],\n",
       "       [ 8.13033667e-01, -9.26336398e-02, -4.78236690e-01],\n",
       "       [-1.61413602e+00,  6.12263260e-02, -3.05446533e-02],\n",
       "       [ 8.13033667e-01, -9.26336398e-02, -4.75429228e-01],\n",
       "       [-4.00551178e-01, -6.31143520e-01,  7.87817135e-01],\n",
       "       [ 8.13033667e-01, -1.57036569e-02, -4.91796464e-01],\n",
       "       [ 8.13033667e-01, -9.26336398e-02, -4.72460019e-01],\n",
       "       [ 8.13033667e-01, -9.26336398e-02, -4.78236690e-01],\n",
       "       [ 8.13033667e-01,  1.21517607e+00, -3.49143488e-01],\n",
       "       [ 8.13033667e-01, -1.01579343e+00,  3.44429005e-02],\n",
       "       [ 8.13033667e-01, -7.85003486e-01, -4.70374641e-01],\n",
       "       [ 8.13033667e-01, -4.77283554e-01, -4.49834723e-01],\n",
       "       [ 8.13033667e-01, -4.00353571e-01, -4.91715591e-01],\n",
       "       [-1.61413602e+00,  2.21526585e+00,  1.55370749e+00],\n",
       "       [ 8.13033667e-01, -1.86202325e+00, -2.56637797e-01],\n",
       "       [-1.61413602e+00,  1.75368595e+00,  1.17292856e+00],\n",
       "       [ 8.13033667e-01,  8.30526155e-01, -9.02369249e-02],\n",
       "       [-1.61413602e+00, -1.40044335e+00,  1.68320121e+00],\n",
       "       [ 8.13033667e-01,  2.75377573e+00, -4.78236690e-01],\n",
       "       [-1.61413602e+00, -8.61933468e-01,  9.06238900e-01],\n",
       "       [-4.00551178e-01,  2.15086292e-01, -4.25283869e-01],\n",
       "       [-1.61413602e+00,  1.59982598e+00,  4.13868709e+00],\n",
       "       [-4.00551178e-01,  4.45876240e-01, -2.23100368e-01],\n",
       "       [ 8.13033667e-01, -7.85003486e-01, -4.75748871e-01],\n",
       "       [ 8.13033667e-01, -6.31143520e-01, -4.77755301e-01],\n",
       "       [-4.00551178e-01, -1.24658338e+00, -2.51983725e-01],\n",
       "       [-4.00551178e-01, -9.26336398e-02, -1.26822511e-01],\n",
       "       [-1.61413602e+00, -9.26336398e-02, -1.28266679e-01],\n",
       "       [ 8.13033667e-01, -9.26336398e-02, -4.78236690e-01],\n",
       "       [-4.00551178e-01,  2.13833586e+00, -4.25283869e-01],\n",
       "       [-4.00551178e-01, -6.31143520e-01,  7.87817135e-01],\n",
       "       [ 8.13033667e-01, -1.57036569e-02, -4.75829744e-01],\n",
       "       [ 8.13033667e-01, -9.38863451e-01, -4.88264992e-01],\n",
       "       [-1.61413602e+00,  1.75368595e+00,  8.79602668e-01],\n",
       "       [-4.00551178e-01, -2.46493606e-01, -1.26822511e-01],\n",
       "       [-1.61413602e+00, -8.61933468e-01,  4.42471320e+00],\n",
       "       [-1.61413602e+00, -2.46493606e-01, -4.98002248e-02],\n",
       "       [-1.61413602e+00,  7.53596172e-01,  9.73793221e-01],\n",
       "       [ 8.13033667e-01, -4.77283554e-01, -4.76230260e-01],\n",
       "       [ 8.13033667e-01,  5.22806223e-01, -3.28043233e-01],\n",
       "       [ 8.13033667e-01,  9.96913174e-02, -4.78236690e-01],\n",
       "       [-1.61413602e+00, -5.54213537e-01,  3.25683419e-01],\n",
       "       [-4.00551178e-01,  6.76666189e-01, -3.77144940e-01],\n",
       "       [ 8.13033667e-01,  9.07456138e-01, -2.38264131e-01],\n",
       "       [ 8.13033667e-01, -1.01579343e+00,  1.36738124e-01],\n",
       "       [-4.00551178e-01, -1.57036569e-02, -4.25283869e-01],\n",
       "       [-1.61413602e+00,  8.30526155e-01,  1.96240700e+00],\n",
       "       [ 8.13033667e-01, -9.26336398e-02, -4.78477385e-01],\n",
       "       [-1.61413602e+00,  2.06140588e+00, -3.64021981e-02],\n",
       "       [-1.61413602e+00,  3.21535562e+00,  3.25764293e-01],\n",
       "       [-1.61413602e+00,  1.38156309e-01,  1.55370749e+00],\n",
       "       [-1.61413602e+00,  6.12263260e-02,  4.68736911e-01],\n",
       "       [-1.61413602e+00,  6.76666189e-01, -6.27467370e-01],\n",
       "       [ 8.13033667e-01, -9.26336398e-02, -4.87864476e-01],\n",
       "       [ 8.13033667e-01, -1.55430331e+00, -2.32246765e-01],\n",
       "       [ 8.13033667e-01, -1.55430331e+00, -2.52493711e-02],\n",
       "       [-1.61413602e+00,  2.44605579e+00, -5.11189448e-03],\n",
       "       [ 8.13033667e-01, -9.26336398e-02, -4.78637206e-01],\n",
       "       [ 8.13033667e-01, -9.26336398e-02, -4.75429228e-01],\n",
       "       [ 8.13033667e-01, -9.26336398e-02, -4.76230260e-01],\n",
       "       [-1.61413602e+00,  1.44596602e+00,  3.73822348e-01],\n",
       "       [ 8.13033667e-01,  1.21517607e+00, -4.72460019e-01],\n",
       "       [-4.00551178e-01,  5.22806223e-01, -3.77144940e-01],\n",
       "       [ 8.13033667e-01, -1.69563623e-01, -4.75429228e-01],\n",
       "       [-1.61413602e+00,  2.67684574e+00, -1.26822511e-01],\n",
       "       [ 8.13033667e-01,  4.45876240e-01, -4.90271423e-01],\n",
       "       [-1.61413602e+00, -7.85003486e-01,  1.12631468e+00],\n",
       "       [ 8.13033667e-01,  6.76666189e-01, -4.91715591e-01],\n",
       "       [ 8.13033667e-01,  9.96913174e-02, -4.72460019e-01],\n",
       "       [ 8.13033667e-01, -3.23423588e-01, -4.77755301e-01],\n",
       "       [-4.00551178e-01,  8.30526155e-01,  1.23499919e-01],\n",
       "       [-1.61413602e+00,  1.36903603e+00,  1.13872133e-01],\n",
       "       [ 8.13033667e-01,  6.12263260e-02, -4.44539440e-01],\n",
       "       [-1.61413602e+00,  8.30526155e-01, -3.05446533e-02],\n",
       "       [-1.61413602e+00, -9.26336398e-02,  3.73822348e-01],\n",
       "       [ 8.13033667e-01, -6.69608511e-01, -4.87864476e-01],\n",
       "       [-1.61413602e+00, -9.26336398e-02,  1.08828492e+00],\n",
       "       [-1.61413602e+00,  5.22806223e-01, -1.21286534e-01],\n",
       "       [-1.61413602e+00, -9.26336398e-02,  3.64301787e+00],\n",
       "       [ 8.13033667e-01, -7.08073503e-01, -4.37880864e-01],\n",
       "       [-1.61413602e+00,  3.21535562e+00,  3.98190560e-02],\n",
       "       [-4.00551178e-01,  5.22806223e-01, -3.79551887e-01],\n",
       "       [-4.00551178e-01, -5.54213537e-01, -6.90557963e-02],\n",
       "       [ 8.13033667e-01,  1.44596602e+00,  3.44429005e-02],\n",
       "       [-4.00551178e-01, -4.77283554e-01, -4.06028297e-01],\n",
       "       [-1.61413602e+00,  2.15086292e-01,  8.41572914e-01],\n",
       "       [-1.61413602e+00,  2.59991576e+00,  8.73664249e-01],\n",
       "       [-4.00551178e-01, -2.18282127e+00, -6.90557963e-02],\n",
       "       [ 8.13033667e-01, -3.23423588e-01, -4.87864476e-01],\n",
       "       [-1.61413602e+00,  4.45876240e-01, -1.16231946e-01],\n",
       "       [-1.61413602e+00,  1.52289600e+00, -1.28185805e-01],\n",
       "       [-1.61413602e+00, -4.00353571e-01,  8.97573893e-01],\n",
       "       [ 8.13033667e-01, -9.26336398e-02, -3.49064540e-01],\n",
       "       [ 8.13033667e-01, -6.31143520e-01, -4.72460019e-01],\n",
       "       [ 8.13033667e-01, -9.26336398e-02, -4.75748871e-01],\n",
       "       [ 8.13033667e-01, -9.26336398e-02, -3.33900778e-01],\n",
       "       [-4.00551178e-01, -9.26336398e-02, -6.27467370e-01],\n",
       "       [ 8.13033667e-01, -1.86202325e+00, -3.87254115e-01],\n",
       "       [-1.61413602e+00,  1.52289600e+00,  4.68736911e-01],\n",
       "       [ 8.13033667e-01, -1.09272342e+00, -3.49143488e-01],\n",
       "       [-1.61413602e+00, -9.26336398e-02,  1.50765394e+00],\n",
       "       [ 8.13033667e-01, -1.57036569e-02, -4.77755301e-01],\n",
       "       [ 8.13033667e-01,  9.84386120e-01, -4.82087805e-01],\n",
       "       [ 8.13033667e-01, -8.61933468e-01, -2.84718197e-01],\n",
       "       [ 8.13033667e-01, -6.31143520e-01, -4.65079358e-01],\n",
       "       [-4.00551178e-01,  1.13824609e+00, -1.26822511e-01],\n",
       "       [-4.00551178e-01, -9.26336398e-02, -3.77144940e-01],\n",
       "       [-4.00551178e-01,  5.99736206e-01, -1.26822511e-01],\n",
       "       [ 8.13033667e-01,  7.53596172e-01, -6.66488498e-02],\n",
       "       [-4.00551178e-01,  3.68946257e-01, -1.66129607e-03],\n",
       "       [-4.00551178e-01,  6.12263260e-02, -3.77144940e-01],\n",
       "       [-4.00551178e-01,  2.83070571e+00, -4.25283869e-01],\n",
       "       [-1.61413602e+00, -9.26336398e-02,  2.19387437e+00],\n",
       "       [ 8.13033667e-01,  1.06131610e+00, -4.72460019e-01],\n",
       "       [ 8.13033667e-01, -9.26336398e-02, -4.59703203e-01],\n",
       "       [ 8.13033667e-01, -4.00353571e-01, -4.83131457e-01],\n",
       "       [ 8.13033667e-01, -8.61933468e-01, -4.77354785e-01],\n",
       "       [ 8.13033667e-01, -9.26336398e-02, -1.62445318e-01],\n",
       "       [ 8.13033667e-01, -9.26336398e-02, -4.72460019e-01],\n",
       "       [ 8.13033667e-01, -9.26336398e-02, -4.91715591e-01],\n",
       "       [ 8.13033667e-01, -9.26336398e-02,  4.60391546e-01],\n",
       "       [ 8.13033667e-01, -9.26336398e-02, -4.77514607e-01],\n",
       "       [-4.00551178e-01,  5.22806223e-01, -1.26822511e-01],\n",
       "       [ 8.13033667e-01,  2.15086292e-01, -3.29006011e-01],\n",
       "       [ 8.13033667e-01, -4.38818563e-01, -4.88264992e-01],\n",
       "       [-1.61413602e+00, -9.26336398e-02, -1.16231946e-01],\n",
       "       [-4.00551178e-01,  7.53596172e-01, -3.77144940e-01],\n",
       "       [-1.61413602e+00, -9.26336398e-02,  9.54778344e-01],\n",
       "       [ 8.13033667e-01, -9.26336398e-02, -4.64597969e-01],\n",
       "       [-1.61413602e+00,  2.75377573e+00,  5.65977547e-01],\n",
       "       [-4.00551178e-01, -4.77283554e-01, -4.25283869e-01],\n",
       "       [-1.61413602e+00, -9.26336398e-02,  3.71174707e-01],\n",
       "       [ 8.13033667e-01, -5.54213537e-01, -4.75429228e-01],\n",
       "       [ 8.13033667e-01,  4.45876240e-01, -4.91715591e-01],\n",
       "       [-1.61413602e+00, -4.77283554e-01,  5.92532906e-01],\n",
       "       [-4.00551178e-01, -8.61933468e-01, -3.77144940e-01],\n",
       "       [-1.61413602e+00,  5.22806223e-01, -1.19360977e-01],\n",
       "       [ 8.13033667e-01, -1.55430331e+00, -3.33900778e-01],\n",
       "       [ 8.13033667e-01, -9.38863451e-01, -4.90271423e-01],\n",
       "       [ 8.13033667e-01, -9.26336398e-02, -4.88345865e-01],\n",
       "       [ 8.13033667e-01,  6.76666189e-01, -2.30831193e-02],\n",
       "       [-4.00551178e-01, -9.38863451e-01, -4.25283869e-01],\n",
       "       [ 8.13033667e-01, -1.93895323e+00, -3.05899326e-01]])"
      ]
     },
     "execution_count": 15,
     "metadata": {},
     "output_type": "execute_result"
    }
   ],
   "source": [
    "x_test_scaler = sc.transform(x_test)\n",
    "x_test_scaler"
   ]
  },
  {
   "cell_type": "code",
   "execution_count": 27,
   "id": "4e9d3a49",
   "metadata": {},
   "outputs": [
    {
     "name": "stdout",
     "output_type": "stream",
     "text": [
      "0.7374301675977654\n"
     ]
    }
   ],
   "source": [
    "from sklearn.linear_model import LogisticRegression\n",
    "from sklearn.metrics import accuracy_score\n",
    "\n",
    "lr = LogisticRegression()\n",
    "lr.fit(x_train_scaler , y_train)\n",
    "pred = lr.predict(x_test_scaler)\n",
    "print(accuracy_score(pred , y_test))"
   ]
  },
  {
   "cell_type": "markdown",
   "id": "3c388111",
   "metadata": {},
   "source": [
    "# Min Max Scaler"
   ]
  },
  {
   "cell_type": "code",
   "execution_count": 20,
   "id": "90a77f3c",
   "metadata": {},
   "outputs": [],
   "source": [
    "from sklearn.preprocessing import MinMaxScaler"
   ]
  },
  {
   "cell_type": "code",
   "execution_count": 30,
   "id": "a7ba72fc",
   "metadata": {},
   "outputs": [
    {
     "data": {
      "text/html": [
       "<div>\n",
       "<style scoped>\n",
       "    .dataframe tbody tr th:only-of-type {\n",
       "        vertical-align: middle;\n",
       "    }\n",
       "\n",
       "    .dataframe tbody tr th {\n",
       "        vertical-align: top;\n",
       "    }\n",
       "\n",
       "    .dataframe thead th {\n",
       "        text-align: right;\n",
       "    }\n",
       "</style>\n",
       "<table border=\"1\" class=\"dataframe\">\n",
       "  <thead>\n",
       "    <tr style=\"text-align: right;\">\n",
       "      <th></th>\n",
       "      <th>Pclass</th>\n",
       "      <th>Age</th>\n",
       "      <th>Fare</th>\n",
       "    </tr>\n",
       "  </thead>\n",
       "  <tbody>\n",
       "    <tr>\n",
       "      <th>0</th>\n",
       "      <td>0.0</td>\n",
       "      <td>0.566474</td>\n",
       "      <td>0.055628</td>\n",
       "    </tr>\n",
       "    <tr>\n",
       "      <th>1</th>\n",
       "      <td>0.5</td>\n",
       "      <td>0.283740</td>\n",
       "      <td>0.025374</td>\n",
       "    </tr>\n",
       "    <tr>\n",
       "      <th>2</th>\n",
       "      <td>1.0</td>\n",
       "      <td>0.396833</td>\n",
       "      <td>0.015469</td>\n",
       "    </tr>\n",
       "    <tr>\n",
       "      <th>3</th>\n",
       "      <td>1.0</td>\n",
       "      <td>0.321438</td>\n",
       "      <td>0.015330</td>\n",
       "    </tr>\n",
       "    <tr>\n",
       "      <th>4</th>\n",
       "      <td>1.0</td>\n",
       "      <td>0.070118</td>\n",
       "      <td>0.061045</td>\n",
       "    </tr>\n",
       "  </tbody>\n",
       "</table>\n",
       "</div>"
      ],
      "text/plain": [
       "   Pclass       Age      Fare\n",
       "0     0.0  0.566474  0.055628\n",
       "1     0.5  0.283740  0.025374\n",
       "2     1.0  0.396833  0.015469\n",
       "3     1.0  0.321438  0.015330\n",
       "4     1.0  0.070118  0.061045"
      ]
     },
     "execution_count": 30,
     "metadata": {},
     "output_type": "execute_result"
    }
   ],
   "source": [
    "mms = MinMaxScaler()\n",
    "df_mms_train = pd.DataFrame(mms.fit_transform(x_train),columns=x_train.columns)\n",
    "df_mms_train.head()"
   ]
  },
  {
   "cell_type": "code",
   "execution_count": 31,
   "id": "910be81a",
   "metadata": {},
   "outputs": [
    {
     "data": {
      "text/html": [
       "<div>\n",
       "<style scoped>\n",
       "    .dataframe tbody tr th:only-of-type {\n",
       "        vertical-align: middle;\n",
       "    }\n",
       "\n",
       "    .dataframe tbody tr th {\n",
       "        vertical-align: top;\n",
       "    }\n",
       "\n",
       "    .dataframe thead th {\n",
       "        text-align: right;\n",
       "    }\n",
       "</style>\n",
       "<table border=\"1\" class=\"dataframe\">\n",
       "  <thead>\n",
       "    <tr style=\"text-align: right;\">\n",
       "      <th></th>\n",
       "      <th>Pclass</th>\n",
       "      <th>Age</th>\n",
       "      <th>Fare</th>\n",
       "    </tr>\n",
       "  </thead>\n",
       "  <tbody>\n",
       "    <tr>\n",
       "      <th>0</th>\n",
       "      <td>1.0</td>\n",
       "      <td>0.346569</td>\n",
       "      <td>0.029758</td>\n",
       "    </tr>\n",
       "    <tr>\n",
       "      <th>1</th>\n",
       "      <td>0.5</td>\n",
       "      <td>0.384267</td>\n",
       "      <td>0.020495</td>\n",
       "    </tr>\n",
       "    <tr>\n",
       "      <th>2</th>\n",
       "      <td>1.0</td>\n",
       "      <td>0.246042</td>\n",
       "      <td>0.015469</td>\n",
       "    </tr>\n",
       "    <tr>\n",
       "      <th>3</th>\n",
       "      <td>0.5</td>\n",
       "      <td>0.070118</td>\n",
       "      <td>0.064412</td>\n",
       "    </tr>\n",
       "    <tr>\n",
       "      <th>4</th>\n",
       "      <td>1.0</td>\n",
       "      <td>0.170646</td>\n",
       "      <td>0.021942</td>\n",
       "    </tr>\n",
       "    <tr>\n",
       "      <th>...</th>\n",
       "      <td>...</td>\n",
       "      <td>...</td>\n",
       "      <td>...</td>\n",
       "    </tr>\n",
       "    <tr>\n",
       "      <th>174</th>\n",
       "      <td>1.0</td>\n",
       "      <td>0.208344</td>\n",
       "      <td>0.013907</td>\n",
       "    </tr>\n",
       "    <tr>\n",
       "      <th>175</th>\n",
       "      <td>1.0</td>\n",
       "      <td>0.346569</td>\n",
       "      <td>0.014102</td>\n",
       "    </tr>\n",
       "    <tr>\n",
       "      <th>176</th>\n",
       "      <td>1.0</td>\n",
       "      <td>0.472229</td>\n",
       "      <td>0.061264</td>\n",
       "    </tr>\n",
       "    <tr>\n",
       "      <th>177</th>\n",
       "      <td>0.5</td>\n",
       "      <td>0.208344</td>\n",
       "      <td>0.020495</td>\n",
       "    </tr>\n",
       "    <tr>\n",
       "      <th>178</th>\n",
       "      <td>1.0</td>\n",
       "      <td>0.044986</td>\n",
       "      <td>0.032596</td>\n",
       "    </tr>\n",
       "  </tbody>\n",
       "</table>\n",
       "<p>179 rows × 3 columns</p>\n",
       "</div>"
      ],
      "text/plain": [
       "     Pclass       Age      Fare\n",
       "0       1.0  0.346569  0.029758\n",
       "1       0.5  0.384267  0.020495\n",
       "2       1.0  0.246042  0.015469\n",
       "3       0.5  0.070118  0.064412\n",
       "4       1.0  0.170646  0.021942\n",
       "..      ...       ...       ...\n",
       "174     1.0  0.208344  0.013907\n",
       "175     1.0  0.346569  0.014102\n",
       "176     1.0  0.472229  0.061264\n",
       "177     0.5  0.208344  0.020495\n",
       "178     1.0  0.044986  0.032596\n",
       "\n",
       "[179 rows x 3 columns]"
      ]
     },
     "execution_count": 31,
     "metadata": {},
     "output_type": "execute_result"
    }
   ],
   "source": [
    "df_mms_test = pd.DataFrame(mms.transform(x_test),columns=x_test.columns)\n",
    "df_mms_test"
   ]
  },
  {
   "cell_type": "code",
   "execution_count": 32,
   "id": "2368aecf",
   "metadata": {},
   "outputs": [
    {
     "name": "stdout",
     "output_type": "stream",
     "text": [
      "0.7374301675977654\n"
     ]
    }
   ],
   "source": [
    "from sklearn.linear_model import LogisticRegression\n",
    "from sklearn.metrics import accuracy_score\n",
    "\n",
    "lr = LogisticRegression()\n",
    "lr.fit(df_mms_train , y_train)\n",
    "pred = lr.predict(df_mms_test)\n",
    "print(accuracy_score(pred , y_test))"
   ]
  },
  {
   "cell_type": "markdown",
   "id": "d547f5ce",
   "metadata": {},
   "source": [
    "# Robust Scaler"
   ]
  },
  {
   "cell_type": "code",
   "execution_count": 29,
   "id": "cd66b863",
   "metadata": {},
   "outputs": [],
   "source": [
    "from sklearn.preprocessing import RobustScaler"
   ]
  },
  {
   "cell_type": "code",
   "execution_count": 33,
   "id": "b294af30",
   "metadata": {},
   "outputs": [
    {
     "data": {
      "text/html": [
       "<div>\n",
       "<style scoped>\n",
       "    .dataframe tbody tr th:only-of-type {\n",
       "        vertical-align: middle;\n",
       "    }\n",
       "\n",
       "    .dataframe tbody tr th {\n",
       "        vertical-align: top;\n",
       "    }\n",
       "\n",
       "    .dataframe thead th {\n",
       "        text-align: right;\n",
       "    }\n",
       "</style>\n",
       "<table border=\"1\" class=\"dataframe\">\n",
       "  <thead>\n",
       "    <tr style=\"text-align: right;\">\n",
       "      <th></th>\n",
       "      <th>Pclass</th>\n",
       "      <th>Age</th>\n",
       "      <th>Fare</th>\n",
       "    </tr>\n",
       "  </thead>\n",
       "  <tbody>\n",
       "    <tr>\n",
       "      <th>0</th>\n",
       "      <td>-2.0</td>\n",
       "      <td>1.346154</td>\n",
       "      <td>0.622184</td>\n",
       "    </tr>\n",
       "    <tr>\n",
       "      <th>1</th>\n",
       "      <td>-1.0</td>\n",
       "      <td>-0.384615</td>\n",
       "      <td>-0.064416</td>\n",
       "    </tr>\n",
       "    <tr>\n",
       "      <th>2</th>\n",
       "      <td>0.0</td>\n",
       "      <td>0.307692</td>\n",
       "      <td>-0.289223</td>\n",
       "    </tr>\n",
       "    <tr>\n",
       "      <th>3</th>\n",
       "      <td>0.0</td>\n",
       "      <td>-0.153846</td>\n",
       "      <td>-0.292359</td>\n",
       "    </tr>\n",
       "    <tr>\n",
       "      <th>4</th>\n",
       "      <td>0.0</td>\n",
       "      <td>-1.692308</td>\n",
       "      <td>0.745107</td>\n",
       "    </tr>\n",
       "  </tbody>\n",
       "</table>\n",
       "</div>"
      ],
      "text/plain": [
       "   Pclass       Age      Fare\n",
       "0    -2.0  1.346154  0.622184\n",
       "1    -1.0 -0.384615 -0.064416\n",
       "2     0.0  0.307692 -0.289223\n",
       "3     0.0 -0.153846 -0.292359\n",
       "4     0.0 -1.692308  0.745107"
      ]
     },
     "execution_count": 33,
     "metadata": {},
     "output_type": "execute_result"
    }
   ],
   "source": [
    "mms = RobustScaler()\n",
    "df_mms_train = pd.DataFrame(mms.fit_transform(x_train),columns=x_train.columns)\n",
    "df_mms_train.head()"
   ]
  },
  {
   "cell_type": "code",
   "execution_count": 34,
   "id": "79e39523",
   "metadata": {},
   "outputs": [
    {
     "data": {
      "text/html": [
       "<div>\n",
       "<style scoped>\n",
       "    .dataframe tbody tr th:only-of-type {\n",
       "        vertical-align: middle;\n",
       "    }\n",
       "\n",
       "    .dataframe tbody tr th {\n",
       "        vertical-align: top;\n",
       "    }\n",
       "\n",
       "    .dataframe thead th {\n",
       "        text-align: right;\n",
       "    }\n",
       "</style>\n",
       "<table border=\"1\" class=\"dataframe\">\n",
       "  <thead>\n",
       "    <tr style=\"text-align: right;\">\n",
       "      <th></th>\n",
       "      <th>Pclass</th>\n",
       "      <th>Age</th>\n",
       "      <th>Fare</th>\n",
       "    </tr>\n",
       "  </thead>\n",
       "  <tbody>\n",
       "    <tr>\n",
       "      <th>0</th>\n",
       "      <td>0.0</td>\n",
       "      <td>0.000000</td>\n",
       "      <td>0.035065</td>\n",
       "    </tr>\n",
       "    <tr>\n",
       "      <th>1</th>\n",
       "      <td>-1.0</td>\n",
       "      <td>0.230769</td>\n",
       "      <td>-0.175158</td>\n",
       "    </tr>\n",
       "    <tr>\n",
       "      <th>2</th>\n",
       "      <td>0.0</td>\n",
       "      <td>-0.615385</td>\n",
       "      <td>-0.289223</td>\n",
       "    </tr>\n",
       "    <tr>\n",
       "      <th>3</th>\n",
       "      <td>-1.0</td>\n",
       "      <td>-1.692308</td>\n",
       "      <td>0.821519</td>\n",
       "    </tr>\n",
       "    <tr>\n",
       "      <th>4</th>\n",
       "      <td>0.0</td>\n",
       "      <td>-1.076923</td>\n",
       "      <td>-0.142303</td>\n",
       "    </tr>\n",
       "    <tr>\n",
       "      <th>...</th>\n",
       "      <td>...</td>\n",
       "      <td>...</td>\n",
       "      <td>...</td>\n",
       "    </tr>\n",
       "    <tr>\n",
       "      <th>174</th>\n",
       "      <td>0.0</td>\n",
       "      <td>-0.846154</td>\n",
       "      <td>-0.324660</td>\n",
       "    </tr>\n",
       "    <tr>\n",
       "      <th>175</th>\n",
       "      <td>0.0</td>\n",
       "      <td>0.000000</td>\n",
       "      <td>-0.320230</td>\n",
       "    </tr>\n",
       "    <tr>\n",
       "      <th>176</th>\n",
       "      <td>0.0</td>\n",
       "      <td>0.769231</td>\n",
       "      <td>0.750091</td>\n",
       "    </tr>\n",
       "    <tr>\n",
       "      <th>177</th>\n",
       "      <td>-1.0</td>\n",
       "      <td>-0.846154</td>\n",
       "      <td>-0.175158</td>\n",
       "    </tr>\n",
       "    <tr>\n",
       "      <th>178</th>\n",
       "      <td>0.0</td>\n",
       "      <td>-1.846154</td>\n",
       "      <td>0.099482</td>\n",
       "    </tr>\n",
       "  </tbody>\n",
       "</table>\n",
       "<p>179 rows × 3 columns</p>\n",
       "</div>"
      ],
      "text/plain": [
       "     Pclass       Age      Fare\n",
       "0       0.0  0.000000  0.035065\n",
       "1      -1.0  0.230769 -0.175158\n",
       "2       0.0 -0.615385 -0.289223\n",
       "3      -1.0 -1.692308  0.821519\n",
       "4       0.0 -1.076923 -0.142303\n",
       "..      ...       ...       ...\n",
       "174     0.0 -0.846154 -0.324660\n",
       "175     0.0  0.000000 -0.320230\n",
       "176     0.0  0.769231  0.750091\n",
       "177    -1.0 -0.846154 -0.175158\n",
       "178     0.0 -1.846154  0.099482\n",
       "\n",
       "[179 rows x 3 columns]"
      ]
     },
     "execution_count": 34,
     "metadata": {},
     "output_type": "execute_result"
    }
   ],
   "source": [
    "df_mms_test = pd.DataFrame(mms.transform(x_test),columns=x_test.columns)\n",
    "df_mms_test"
   ]
  },
  {
   "cell_type": "code",
   "execution_count": 35,
   "id": "8ba733b7",
   "metadata": {},
   "outputs": [
    {
     "name": "stdout",
     "output_type": "stream",
     "text": [
      "0.7318435754189944\n"
     ]
    }
   ],
   "source": [
    "from sklearn.linear_model import LogisticRegression\n",
    "from sklearn.metrics import accuracy_score\n",
    "\n",
    "lr = LogisticRegression()\n",
    "lr.fit(df_mms_train , y_train)\n",
    "pred = lr.predict(df_mms_test)\n",
    "print(accuracy_score(pred , y_test))"
   ]
  },
  {
   "cell_type": "markdown",
   "id": "4b2719d8",
   "metadata": {},
   "source": [
    "# Guassian Distribution"
   ]
  },
  {
   "cell_type": "code",
   "execution_count": 36,
   "id": "2e59bfbb",
   "metadata": {},
   "outputs": [],
   "source": [
    "import scipy.stats as stat\n",
    "import pylab"
   ]
  },
  {
   "cell_type": "code",
   "execution_count": 37,
   "id": "241f8767",
   "metadata": {},
   "outputs": [],
   "source": [
    "def plot_data(df,feature):\n",
    "    plt.figure(figsize=(10,6))\n",
    "    plt.subplot(1,2,1)\n",
    "    df[feature].hist()\n",
    "    plt.subplot(1,2,2)\n",
    "    stat.probplot(df[feature],dist='norm',plot=pylab)\n",
    "    plt.show()"
   ]
  },
  {
   "cell_type": "code",
   "execution_count": 38,
   "id": "1b0a2f4d",
   "metadata": {},
   "outputs": [
    {
     "data": {
      "image/png": "[encoded data removed]",
      "text/plain": [
       "<Figure size 1000x600 with 2 Axes>"
      ]
     },
     "metadata": {},
     "output_type": "display_data"
    }
   ],
   "source": [
    "plot_data(df,'Age')"
   ]
  },
  {
   "cell_type": "markdown",
   "id": "e77d7d8f",
   "metadata": {},
   "source": [
    "**above plot is right skewwed**"
   ]
  },
  {
   "cell_type": "markdown",
   "id": "629e70e5",
   "metadata": {},
   "source": [
    "**try with logarithmic transformation**"
   ]
  },
  {
   "cell_type": "markdown",
   "id": "f5863fc3",
   "metadata": {},
   "source": [
    "import numpy as np\n",
    "df['Age_log'] = np.log(df['Age'])\n",
    "plot_data(df,'Age_log')"
   ]
  },
  {
   "cell_type": "markdown",
   "id": "945745e5",
   "metadata": {},
   "source": [
    "**above plot is left skewwed**"
   ]
  },
  {
   "cell_type": "markdown",
   "id": "5e67c54f",
   "metadata": {},
   "source": [
    "**try with reciprocal transformation**"
   ]
  },
  {
   "cell_type": "code",
   "execution_count": 40,
   "id": "a0b4a04b",
   "metadata": {},
   "outputs": [
    {
     "data": {
      "image/png": "[encoded data removed]",
      "text/plain": [
       "<Figure size 1000x600 with 2 Axes>"
      ]
     },
     "metadata": {},
     "output_type": "display_data"
    }
   ],
   "source": [
    "df['Age_reciprocal'] = 1/df.Age\n",
    "plot_data(df,'Age_reciprocal')"
   ]
  },
  {
   "cell_type": "markdown",
   "id": "712a2557",
   "metadata": {},
   "source": [
    "**totally right skewed**"
   ]
  },
  {
   "cell_type": "markdown",
   "id": "d14a4b9d",
   "metadata": {},
   "source": [
    "**try with square root transformation**"
   ]
  },
  {
   "cell_type": "code",
   "execution_count": 41,
   "id": "6e34140f",
   "metadata": {},
   "outputs": [
    {
     "data": {
      "image/png": "[encoded data removed]",
      "text/plain": [
       "<Figure size 1000x600 with 2 Axes>"
      ]
     },
     "metadata": {},
     "output_type": "display_data"
    }
   ],
   "source": [
    "df['Age_square'] = df.Age** (1/2)\n",
    "plot_data(df,'Age_square')"
   ]
  },
  {
   "cell_type": "markdown",
   "id": "65f74f06",
   "metadata": {},
   "source": [
    "**it is ok but somewaht left skewed**"
   ]
  },
  {
   "cell_type": "markdown",
   "id": "a554c147",
   "metadata": {},
   "source": [
    "**try with exponential transformation**"
   ]
  },
  {
   "cell_type": "code",
   "execution_count": 42,
   "id": "cecfb686",
   "metadata": {},
   "outputs": [
    {
     "data": {
      "image/png": "[encoded data removed]",
      "text/plain": [
       "<Figure size 1000x600 with 2 Axes>"
      ]
     },
     "metadata": {},
     "output_type": "display_data"
    }
   ],
   "source": [
    "df['Age_square'] = df.Age** (1/1.2)\n",
    "plot_data(df,'Age_square')"
   ]
  },
  {
   "cell_type": "markdown",
   "id": "3a97aab9",
   "metadata": {},
   "source": [
    "**this is good**"
   ]
  },
  {
   "cell_type": "markdown",
   "id": "f0ee9030",
   "metadata": {},
   "source": [
    "**try with boxcox transformation**"
   ]
  },
  {
   "cell_type": "code",
   "execution_count": 43,
   "id": "335e052c",
   "metadata": {},
   "outputs": [
    {
     "name": "stdout",
     "output_type": "stream",
     "text": [
      "0.7964531473656952\n"
     ]
    }
   ],
   "source": [
    "df['Age_boxcox'] , parameters = stat.boxcox(df['Age'])\n",
    "print(parameters)"
   ]
  },
  {
   "cell_type": "code",
   "execution_count": 44,
   "id": "41624353",
   "metadata": {},
   "outputs": [
    {
     "data": {
      "image/png": "[encoded data removed]",
      "text/plain": [
       "<Figure size 1000x600 with 2 Axes>"
      ]
     },
     "metadata": {},
     "output_type": "display_data"
    }
   ],
   "source": [
    "plot_data(df,'Age_boxcox')"
   ]
  },
  {
   "cell_type": "markdown",
   "id": "ec09ffce",
   "metadata": {},
   "source": [
    "**this is perfect**"
   ]
  },
  {
   "cell_type": "code",
   "execution_count": null,
   "id": "017420e3",
   "metadata": {},
   "outputs": [],
   "source": []
  }
 ],
 "metadata": {
  "kernelspec": {
   "display_name": "Python 3 (ipykernel)",
   "language": "python",
   "name": "python3"
  },
  "language_info": {
   "codemirror_mode": {
    "name": "ipython",
    "version": 3
   },
   "file_extension": ".py",
   "mimetype": "text/x-python",
   "name": "python",
   "nbconvert_exporter": "python",
   "pygments_lexer": "ipython3",
   "version": "3.9.13"
  }
 },
 "nbformat": 4,
 "nbformat_minor": 5
}
