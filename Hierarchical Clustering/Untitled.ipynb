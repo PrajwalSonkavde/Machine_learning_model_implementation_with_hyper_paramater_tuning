{
 "cells": [
  {
   "cell_type": "markdown",
   "id": "359e9488",
   "metadata": {},
   "source": [
    "https://www.kaggle.com/code/hunter0007/predictive-marketing-k-means-clustering-pca/data"
   ]
  },
  {
   "cell_type": "markdown",
   "id": "d657eb42",
   "metadata": {},
   "source": [
    "https://youtu.be/UxM6x3annr0 <br/>\n",
    "https://youtu.be/lQt92mh0N8I <br/>\n",
    "https://youtu.be/xShjj3HoN_s <br/>"
   ]
  },
  {
   "cell_type": "code",
   "execution_count": 11,
   "id": "a037ffe9",
   "metadata": {},
   "outputs": [],
   "source": [
    "import pandas as pd\n",
    "import matplotlib.pyplot as plt \n",
    "import seaborn as sns"
   ]
  },
  {
   "cell_type": "code",
   "execution_count": 12,
   "id": "756a85c6",
   "metadata": {},
   "outputs": [],
   "source": [
    "df = pd.read_csv('ECommerce_consumer behaviour.csv')"
   ]
  },
  {
   "cell_type": "code",
   "execution_count": 13,
   "id": "3859a9cb",
   "metadata": {},
   "outputs": [
    {
     "data": {
      "text/html": [
       "<div>\n",
       "<style scoped>\n",
       "    .dataframe tbody tr th:only-of-type {\n",
       "        vertical-align: middle;\n",
       "    }\n",
       "\n",
       "    .dataframe tbody tr th {\n",
       "        vertical-align: top;\n",
       "    }\n",
       "\n",
       "    .dataframe thead th {\n",
       "        text-align: right;\n",
       "    }\n",
       "</style>\n",
       "<table border=\"1\" class=\"dataframe\">\n",
       "  <thead>\n",
       "    <tr style=\"text-align: right;\">\n",
       "      <th></th>\n",
       "      <th>order_id</th>\n",
       "      <th>user_id</th>\n",
       "      <th>order_number</th>\n",
       "      <th>order_dow</th>\n",
       "      <th>order_hour_of_day</th>\n",
       "      <th>days_since_prior_order</th>\n",
       "      <th>product_id</th>\n",
       "      <th>add_to_cart_order</th>\n",
       "      <th>reordered</th>\n",
       "      <th>department_id</th>\n",
       "      <th>department</th>\n",
       "      <th>product_name</th>\n",
       "    </tr>\n",
       "  </thead>\n",
       "  <tbody>\n",
       "    <tr>\n",
       "      <th>0</th>\n",
       "      <td>2425083</td>\n",
       "      <td>49125</td>\n",
       "      <td>1</td>\n",
       "      <td>2</td>\n",
       "      <td>18</td>\n",
       "      <td>NaN</td>\n",
       "      <td>17</td>\n",
       "      <td>1</td>\n",
       "      <td>0</td>\n",
       "      <td>13</td>\n",
       "      <td>pantry</td>\n",
       "      <td>baking ingredients</td>\n",
       "    </tr>\n",
       "    <tr>\n",
       "      <th>1</th>\n",
       "      <td>2425083</td>\n",
       "      <td>49125</td>\n",
       "      <td>1</td>\n",
       "      <td>2</td>\n",
       "      <td>18</td>\n",
       "      <td>NaN</td>\n",
       "      <td>91</td>\n",
       "      <td>2</td>\n",
       "      <td>0</td>\n",
       "      <td>16</td>\n",
       "      <td>dairy eggs</td>\n",
       "      <td>soy lactosefree</td>\n",
       "    </tr>\n",
       "    <tr>\n",
       "      <th>2</th>\n",
       "      <td>2425083</td>\n",
       "      <td>49125</td>\n",
       "      <td>1</td>\n",
       "      <td>2</td>\n",
       "      <td>18</td>\n",
       "      <td>NaN</td>\n",
       "      <td>36</td>\n",
       "      <td>3</td>\n",
       "      <td>0</td>\n",
       "      <td>16</td>\n",
       "      <td>dairy eggs</td>\n",
       "      <td>butter</td>\n",
       "    </tr>\n",
       "    <tr>\n",
       "      <th>3</th>\n",
       "      <td>2425083</td>\n",
       "      <td>49125</td>\n",
       "      <td>1</td>\n",
       "      <td>2</td>\n",
       "      <td>18</td>\n",
       "      <td>NaN</td>\n",
       "      <td>83</td>\n",
       "      <td>4</td>\n",
       "      <td>0</td>\n",
       "      <td>4</td>\n",
       "      <td>produce</td>\n",
       "      <td>fresh vegetables</td>\n",
       "    </tr>\n",
       "    <tr>\n",
       "      <th>4</th>\n",
       "      <td>2425083</td>\n",
       "      <td>49125</td>\n",
       "      <td>1</td>\n",
       "      <td>2</td>\n",
       "      <td>18</td>\n",
       "      <td>NaN</td>\n",
       "      <td>83</td>\n",
       "      <td>5</td>\n",
       "      <td>0</td>\n",
       "      <td>4</td>\n",
       "      <td>produce</td>\n",
       "      <td>fresh vegetables</td>\n",
       "    </tr>\n",
       "  </tbody>\n",
       "</table>\n",
       "</div>"
      ],
      "text/plain": [
       "   order_id  user_id  order_number  order_dow  order_hour_of_day  \\\n",
       "0   2425083    49125             1          2                 18   \n",
       "1   2425083    49125             1          2                 18   \n",
       "2   2425083    49125             1          2                 18   \n",
       "3   2425083    49125             1          2                 18   \n",
       "4   2425083    49125             1          2                 18   \n",
       "\n",
       "   days_since_prior_order  product_id  add_to_cart_order  reordered  \\\n",
       "0                     NaN          17                  1          0   \n",
       "1                     NaN          91                  2          0   \n",
       "2                     NaN          36                  3          0   \n",
       "3                     NaN          83                  4          0   \n",
       "4                     NaN          83                  5          0   \n",
       "\n",
       "   department_id  department        product_name  \n",
       "0             13      pantry  baking ingredients  \n",
       "1             16  dairy eggs     soy lactosefree  \n",
       "2             16  dairy eggs              butter  \n",
       "3              4     produce    fresh vegetables  \n",
       "4              4     produce    fresh vegetables  "
      ]
     },
     "execution_count": 13,
     "metadata": {},
     "output_type": "execute_result"
    }
   ],
   "source": [
    "df.head()"
   ]
  },
  {
   "cell_type": "markdown",
   "id": "3ab72d6e",
   "metadata": {},
   "source": [
    "# EDA"
   ]
  },
  {
   "cell_type": "code",
   "execution_count": 14,
   "id": "93758cee",
   "metadata": {},
   "outputs": [],
   "source": [
    "df.drop(['order_id'],axis=1,inplace=True)"
   ]
  },
  {
   "cell_type": "code",
   "execution_count": 15,
   "id": "7ab07e3c",
   "metadata": {},
   "outputs": [
    {
     "data": {
      "text/plain": [
       "105273"
      ]
     },
     "execution_count": 15,
     "metadata": {},
     "output_type": "execute_result"
    }
   ],
   "source": [
    "len(df['user_id'].unique())"
   ]
  },
  {
   "cell_type": "code",
   "execution_count": 16,
   "id": "fee4273a",
   "metadata": {},
   "outputs": [
    {
     "data": {
      "text/plain": [
       "user_id                        0\n",
       "order_number                   0\n",
       "order_dow                      0\n",
       "order_hour_of_day              0\n",
       "days_since_prior_order    124342\n",
       "product_id                     0\n",
       "add_to_cart_order              0\n",
       "reordered                      0\n",
       "department_id                  0\n",
       "department                     0\n",
       "product_name                   0\n",
       "dtype: int64"
      ]
     },
     "execution_count": 16,
     "metadata": {},
     "output_type": "execute_result"
    }
   ],
   "source": [
    "df.isnull().sum()"
   ]
  },
  {
   "cell_type": "code",
   "execution_count": 17,
   "id": "1bb553d1",
   "metadata": {},
   "outputs": [
    {
     "name": "stdout",
     "output_type": "stream",
     "text": [
      "<class 'pandas.core.frame.DataFrame'>\n",
      "RangeIndex: 2019501 entries, 0 to 2019500\n",
      "Data columns (total 11 columns):\n",
      " #   Column                  Dtype  \n",
      "---  ------                  -----  \n",
      " 0   user_id                 int64  \n",
      " 1   order_number            int64  \n",
      " 2   order_dow               int64  \n",
      " 3   order_hour_of_day       int64  \n",
      " 4   days_since_prior_order  float64\n",
      " 5   product_id              int64  \n",
      " 6   add_to_cart_order       int64  \n",
      " 7   reordered               int64  \n",
      " 8   department_id           int64  \n",
      " 9   department              object \n",
      " 10  product_name            object \n",
      "dtypes: float64(1), int64(8), object(2)\n",
      "memory usage: 169.5+ MB\n"
     ]
    }
   ],
   "source": [
    "df.info()"
   ]
  },
  {
   "cell_type": "code",
   "execution_count": 18,
   "id": "b6cede23",
   "metadata": {},
   "outputs": [
    {
     "data": {
      "text/plain": [
       "32"
      ]
     },
     "execution_count": 18,
     "metadata": {},
     "output_type": "execute_result"
    }
   ],
   "source": [
    "len(df['days_since_prior_order'].unique())"
   ]
  },
  {
   "cell_type": "code",
   "execution_count": 19,
   "id": "3dc0d560",
   "metadata": {},
   "outputs": [
    {
     "data": {
      "text/plain": [
       "7.0     214126\n",
       "30.0    210814\n",
       "6.0     155685\n",
       "5.0     129089\n",
       "4.0     126250\n",
       "8.0     118722\n",
       "3.0     113263\n",
       "2.0      88737\n",
       "9.0      75120\n",
       "14.0     63414\n",
       "10.0     62073\n",
       "1.0      59200\n",
       "13.0     52204\n",
       "11.0     51476\n",
       "12.0     48171\n",
       "15.0     41531\n",
       "16.0     28632\n",
       "21.0     28359\n",
       "0.0      27673\n",
       "17.0     23921\n",
       "20.0     23234\n",
       "18.0     22777\n",
       "19.0     20140\n",
       "22.0     19950\n",
       "28.0     16459\n",
       "23.0     13779\n",
       "24.0     12833\n",
       "27.0     12804\n",
       "25.0     11832\n",
       "29.0     11590\n",
       "26.0     11301\n",
       "Name: days_since_prior_order, dtype: int64"
      ]
     },
     "execution_count": 19,
     "metadata": {},
     "output_type": "execute_result"
    }
   ],
   "source": [
    "df['days_since_prior_order'].value_counts()"
   ]
  },
  {
   "cell_type": "code",
   "execution_count": 20,
   "id": "e40808d1",
   "metadata": {},
   "outputs": [
    {
     "data": {
      "text/plain": [
       "array([2, 3, 0, 1, 6, 5, 4], dtype=int64)"
      ]
     },
     "execution_count": 20,
     "metadata": {},
     "output_type": "execute_result"
    }
   ],
   "source": [
    "df['order_dow'].unique()"
   ]
  },
  {
   "cell_type": "code",
   "execution_count": 21,
   "id": "16633760",
   "metadata": {},
   "outputs": [
    {
     "data": {
      "text/plain": [
       "array([  1,  14,  81,   3,  11,   5,  12,  78,   2,  10,  13,   8,   6,\n",
       "         4,  23,  59,  25,  36,  19,   7,  63,  51,  28,   9,  18,  27,\n",
       "        61,  30,  91,  46,  21,  42,  16,  41,  62,  32,  52,  20,  56,\n",
       "        15,  68,  33,  50,  38,  17,  55,  44,  26,  72,  67,  29,  45,\n",
       "        58,  43,  34,  66,  35,  47,  53,  48,  24,  31,  77,  22,  57,\n",
       "        93,  86,  80,  40,  39,  82,  74,  49,  37,  71,  69,  70,  60,\n",
       "       100,  96,  75,  87,  90,  54,  98,  65,  76,  83,  84,  79,  92,\n",
       "        97,  64,  73,  95,  88,  85,  89,  99,  94], dtype=int64)"
      ]
     },
     "execution_count": 21,
     "metadata": {},
     "output_type": "execute_result"
    }
   ],
   "source": [
    "df['order_number'].unique()"
   ]
  },
  {
   "cell_type": "code",
   "execution_count": 22,
   "id": "eeacd1af",
   "metadata": {},
   "outputs": [
    {
     "data": {
      "text/plain": [
       "0    7.0\n",
       "Name: days_since_prior_order, dtype: float64"
      ]
     },
     "execution_count": 22,
     "metadata": {},
     "output_type": "execute_result"
    }
   ],
   "source": [
    "df['days_since_prior_order'].mode()"
   ]
  },
  {
   "cell_type": "code",
   "execution_count": 23,
   "id": "18848ff2",
   "metadata": {},
   "outputs": [
    {
     "name": "stderr",
     "output_type": "stream",
     "text": [
      "C:\\ProgramData\\Anaconda3\\lib\\site-packages\\seaborn\\distributions.py:2619: FutureWarning: `distplot` is a deprecated function and will be removed in a future version. Please adapt your code to use either `displot` (a figure-level function with similar flexibility) or `histplot` (an axes-level function for histograms).\n",
      "  warnings.warn(msg, FutureWarning)\n"
     ]
    },
    {
     "data": {
      "text/plain": [
       "<AxesSubplot: xlabel='days_since_prior_order', ylabel='Density'>"
      ]
     },
     "execution_count": 23,
     "metadata": {},
     "output_type": "execute_result"
    },
    {
     "data": {
      "image/png": "[encoded data removed]",
      "text/plain": [
       "<Figure size 640x480 with 1 Axes>"
      ]
     },
     "metadata": {},
     "output_type": "display_data"
    }
   ],
   "source": [
    "sns.distplot(df['days_since_prior_order'])"
   ]
  },
  {
   "cell_type": "code",
   "execution_count": 24,
   "id": "eff8c44f",
   "metadata": {},
   "outputs": [],
   "source": [
    "df['days_since_prior_order'].fillna(0,inplace=True)\n",
    "## '0' indicates unknown"
   ]
  },
  {
   "cell_type": "code",
   "execution_count": 25,
   "id": "46ebabcd",
   "metadata": {},
   "outputs": [
    {
     "data": {
      "text/plain": [
       "user_id                   0\n",
       "order_number              0\n",
       "order_dow                 0\n",
       "order_hour_of_day         0\n",
       "days_since_prior_order    0\n",
       "product_id                0\n",
       "add_to_cart_order         0\n",
       "reordered                 0\n",
       "department_id             0\n",
       "department                0\n",
       "product_name              0\n",
       "dtype: int64"
      ]
     },
     "execution_count": 25,
     "metadata": {},
     "output_type": "execute_result"
    }
   ],
   "source": [
    "df.isnull().sum()"
   ]
  },
  {
   "cell_type": "code",
   "execution_count": 26,
   "id": "e0e0076c",
   "metadata": {},
   "outputs": [],
   "source": [
    "catogorical_features =[i for i in df.columns if df[i].dtype == 'O']\n",
    "numerical_features =[i for i in df.columns if df[i].dtype != 'O']"
   ]
  },
  {
   "cell_type": "code",
   "execution_count": 27,
   "id": "64033f0c",
   "metadata": {},
   "outputs": [
    {
     "name": "stdout",
     "output_type": "stream",
     "text": [
      "department  feature has :  21\n",
      "product_name  feature has :  134\n"
     ]
    }
   ],
   "source": [
    "for i in catogorical_features:\n",
    "    print(i,\" feature has : \",len(df[i].unique()))"
   ]
  },
  {
   "cell_type": "code",
   "execution_count": 28,
   "id": "0a4d57f8",
   "metadata": {},
   "outputs": [],
   "source": [
    "def make_dict(list):\n",
    "    dict = {}\n",
    "    count=1\n",
    "    for i in list:\n",
    "        dict[i] = count\n",
    "        count+=1\n",
    "    return dict"
   ]
  },
  {
   "cell_type": "code",
   "execution_count": 29,
   "id": "b261c216",
   "metadata": {},
   "outputs": [],
   "source": [
    "for i in catogorical_features:\n",
    "    dict = make_dict(df[i].unique())\n",
    "    df[i] = df[i].map(dict)"
   ]
  },
  {
   "cell_type": "code",
   "execution_count": 30,
   "id": "cfe7ac95",
   "metadata": {},
   "outputs": [
    {
     "data": {
      "text/html": [
       "<div>\n",
       "<style scoped>\n",
       "    .dataframe tbody tr th:only-of-type {\n",
       "        vertical-align: middle;\n",
       "    }\n",
       "\n",
       "    .dataframe tbody tr th {\n",
       "        vertical-align: top;\n",
       "    }\n",
       "\n",
       "    .dataframe thead th {\n",
       "        text-align: right;\n",
       "    }\n",
       "</style>\n",
       "<table border=\"1\" class=\"dataframe\">\n",
       "  <thead>\n",
       "    <tr style=\"text-align: right;\">\n",
       "      <th></th>\n",
       "      <th>user_id</th>\n",
       "      <th>order_number</th>\n",
       "      <th>order_dow</th>\n",
       "      <th>order_hour_of_day</th>\n",
       "      <th>days_since_prior_order</th>\n",
       "      <th>product_id</th>\n",
       "      <th>add_to_cart_order</th>\n",
       "      <th>reordered</th>\n",
       "      <th>department_id</th>\n",
       "      <th>department</th>\n",
       "      <th>product_name</th>\n",
       "    </tr>\n",
       "  </thead>\n",
       "  <tbody>\n",
       "    <tr>\n",
       "      <th>0</th>\n",
       "      <td>49125</td>\n",
       "      <td>1</td>\n",
       "      <td>2</td>\n",
       "      <td>18</td>\n",
       "      <td>0.0</td>\n",
       "      <td>17</td>\n",
       "      <td>1</td>\n",
       "      <td>0</td>\n",
       "      <td>13</td>\n",
       "      <td>1</td>\n",
       "      <td>1</td>\n",
       "    </tr>\n",
       "    <tr>\n",
       "      <th>1</th>\n",
       "      <td>49125</td>\n",
       "      <td>1</td>\n",
       "      <td>2</td>\n",
       "      <td>18</td>\n",
       "      <td>0.0</td>\n",
       "      <td>91</td>\n",
       "      <td>2</td>\n",
       "      <td>0</td>\n",
       "      <td>16</td>\n",
       "      <td>2</td>\n",
       "      <td>2</td>\n",
       "    </tr>\n",
       "    <tr>\n",
       "      <th>2</th>\n",
       "      <td>49125</td>\n",
       "      <td>1</td>\n",
       "      <td>2</td>\n",
       "      <td>18</td>\n",
       "      <td>0.0</td>\n",
       "      <td>36</td>\n",
       "      <td>3</td>\n",
       "      <td>0</td>\n",
       "      <td>16</td>\n",
       "      <td>2</td>\n",
       "      <td>3</td>\n",
       "    </tr>\n",
       "    <tr>\n",
       "      <th>3</th>\n",
       "      <td>49125</td>\n",
       "      <td>1</td>\n",
       "      <td>2</td>\n",
       "      <td>18</td>\n",
       "      <td>0.0</td>\n",
       "      <td>83</td>\n",
       "      <td>4</td>\n",
       "      <td>0</td>\n",
       "      <td>4</td>\n",
       "      <td>3</td>\n",
       "      <td>4</td>\n",
       "    </tr>\n",
       "    <tr>\n",
       "      <th>4</th>\n",
       "      <td>49125</td>\n",
       "      <td>1</td>\n",
       "      <td>2</td>\n",
       "      <td>18</td>\n",
       "      <td>0.0</td>\n",
       "      <td>83</td>\n",
       "      <td>5</td>\n",
       "      <td>0</td>\n",
       "      <td>4</td>\n",
       "      <td>3</td>\n",
       "      <td>4</td>\n",
       "    </tr>\n",
       "  </tbody>\n",
       "</table>\n",
       "</div>"
      ],
      "text/plain": [
       "   user_id  order_number  order_dow  order_hour_of_day  \\\n",
       "0    49125             1          2                 18   \n",
       "1    49125             1          2                 18   \n",
       "2    49125             1          2                 18   \n",
       "3    49125             1          2                 18   \n",
       "4    49125             1          2                 18   \n",
       "\n",
       "   days_since_prior_order  product_id  add_to_cart_order  reordered  \\\n",
       "0                     0.0          17                  1          0   \n",
       "1                     0.0          91                  2          0   \n",
       "2                     0.0          36                  3          0   \n",
       "3                     0.0          83                  4          0   \n",
       "4                     0.0          83                  5          0   \n",
       "\n",
       "   department_id  department  product_name  \n",
       "0             13           1             1  \n",
       "1             16           2             2  \n",
       "2             16           2             3  \n",
       "3              4           3             4  \n",
       "4              4           3             4  "
      ]
     },
     "execution_count": 30,
     "metadata": {},
     "output_type": "execute_result"
    }
   ],
   "source": [
    "df.head()"
   ]
  },
  {
   "cell_type": "code",
   "execution_count": 31,
   "id": "005431f7",
   "metadata": {},
   "outputs": [
    {
     "name": "stdout",
     "output_type": "stream",
     "text": [
      "<class 'pandas.core.frame.DataFrame'>\n",
      "RangeIndex: 2019501 entries, 0 to 2019500\n",
      "Data columns (total 11 columns):\n",
      " #   Column                  Dtype  \n",
      "---  ------                  -----  \n",
      " 0   user_id                 int64  \n",
      " 1   order_number            int64  \n",
      " 2   order_dow               int64  \n",
      " 3   order_hour_of_day       int64  \n",
      " 4   days_since_prior_order  float64\n",
      " 5   product_id              int64  \n",
      " 6   add_to_cart_order       int64  \n",
      " 7   reordered               int64  \n",
      " 8   department_id           int64  \n",
      " 9   department              int64  \n",
      " 10  product_name            int64  \n",
      "dtypes: float64(1), int64(10)\n",
      "memory usage: 169.5 MB\n"
     ]
    }
   ],
   "source": [
    "df.info()"
   ]
  },
  {
   "cell_type": "markdown",
   "id": "e5b2df7a",
   "metadata": {},
   "source": [
    "# Applying Agglomerative Clustering"
   ]
  },
  {
   "cell_type": "code",
   "execution_count": 9,
   "id": "7abdeb1f",
   "metadata": {},
   "outputs": [],
   "source": [
    "from sklearn.cluster import AgglomerativeClustering\n",
    "from sklearn.model_selection import GridSearchCV\n",
    "from sklearn.metrics import silhouette_score\n",
    "import scipy.cluster.hierarchy as sch"
   ]
  },
  {
   "cell_type": "markdown",
   "id": "3ceeb726",
   "metadata": {},
   "source": [
    "### Dendrogram"
   ]
  },
  {
   "cell_type": "code",
   "execution_count": null,
   "id": "b1acde0e",
   "metadata": {},
   "outputs": [],
   "source": [
    "x = df.sample(n=1000)"
   ]
  },
  {
   "cell_type": "code",
   "execution_count": null,
   "id": "7394bc42",
   "metadata": {},
   "outputs": [],
   "source": [
    "import scipy.cluster.hierarchy as sch\n",
    "plt.figure(figsize=(10,7))\n",
    "\n",
    "dendrogram = sch.dendrogram(sch.linkage(x,method = 'ward'))\n",
    "plt.show()"
   ]
  },
  {
   "cell_type": "markdown",
   "id": "f7680168",
   "metadata": {},
   "source": [
    "**line with more largest distance vertically without crossing any horizontal line**\n",
    "\n",
    "-> see vertical distance for k =2 clusters which is high compared to k = 6 clusters , compare vertical distance for k =2 cluster it looks same as k=3 clusters so we conclude that k=3 clusters will be best but k=2 is also best once check with k=2 and k=3"
   ]
  },
  {
   "cell_type": "markdown",
   "id": "fb8c7f5e",
   "metadata": {},
   "source": [
    "### Applying Hierarchical Clustering"
   ]
  },
  {
   "cell_type": "code",
   "execution_count": 32,
   "id": "8aa668ac",
   "metadata": {},
   "outputs": [],
   "source": [
    "x = df.sample(n=10000)"
   ]
  },
  {
   "cell_type": "code",
   "execution_count": 33,
   "id": "a4d96c44",
   "metadata": {},
   "outputs": [],
   "source": [
    "ag = AgglomerativeClustering(n_clusters=3,affinity='euclidean',linkage='ward')\n",
    "labels = ag.fit_predict(x)"
   ]
  },
  {
   "cell_type": "code",
   "execution_count": 34,
   "id": "dfe2132d",
   "metadata": {},
   "outputs": [
    {
     "data": {
      "text/html": [
       "<div>\n",
       "<style scoped>\n",
       "    .dataframe tbody tr th:only-of-type {\n",
       "        vertical-align: middle;\n",
       "    }\n",
       "\n",
       "    .dataframe tbody tr th {\n",
       "        vertical-align: top;\n",
       "    }\n",
       "\n",
       "    .dataframe thead th {\n",
       "        text-align: right;\n",
       "    }\n",
       "</style>\n",
       "<table border=\"1\" class=\"dataframe\">\n",
       "  <thead>\n",
       "    <tr style=\"text-align: right;\">\n",
       "      <th></th>\n",
       "      <th>user_id</th>\n",
       "      <th>order_number</th>\n",
       "      <th>order_dow</th>\n",
       "      <th>order_hour_of_day</th>\n",
       "      <th>days_since_prior_order</th>\n",
       "      <th>product_id</th>\n",
       "      <th>add_to_cart_order</th>\n",
       "      <th>reordered</th>\n",
       "      <th>department_id</th>\n",
       "      <th>department</th>\n",
       "      <th>product_name</th>\n",
       "      <th>clusters</th>\n",
       "    </tr>\n",
       "  </thead>\n",
       "  <tbody>\n",
       "    <tr>\n",
       "      <th>1278259</th>\n",
       "      <td>108525</td>\n",
       "      <td>9</td>\n",
       "      <td>0</td>\n",
       "      <td>20</td>\n",
       "      <td>20.0</td>\n",
       "      <td>34</td>\n",
       "      <td>22</td>\n",
       "      <td>1</td>\n",
       "      <td>1</td>\n",
       "      <td>6</td>\n",
       "      <td>75</td>\n",
       "      <td>0</td>\n",
       "    </tr>\n",
       "    <tr>\n",
       "      <th>1250071</th>\n",
       "      <td>56014</td>\n",
       "      <td>41</td>\n",
       "      <td>3</td>\n",
       "      <td>17</td>\n",
       "      <td>8.0</td>\n",
       "      <td>53</td>\n",
       "      <td>1</td>\n",
       "      <td>1</td>\n",
       "      <td>16</td>\n",
       "      <td>2</td>\n",
       "      <td>19</td>\n",
       "      <td>1</td>\n",
       "    </tr>\n",
       "    <tr>\n",
       "      <th>1572282</th>\n",
       "      <td>189321</td>\n",
       "      <td>12</td>\n",
       "      <td>3</td>\n",
       "      <td>14</td>\n",
       "      <td>5.0</td>\n",
       "      <td>48</td>\n",
       "      <td>9</td>\n",
       "      <td>0</td>\n",
       "      <td>14</td>\n",
       "      <td>9</td>\n",
       "      <td>84</td>\n",
       "      <td>2</td>\n",
       "    </tr>\n",
       "    <tr>\n",
       "      <th>1948487</th>\n",
       "      <td>90870</td>\n",
       "      <td>3</td>\n",
       "      <td>6</td>\n",
       "      <td>8</td>\n",
       "      <td>11.0</td>\n",
       "      <td>83</td>\n",
       "      <td>3</td>\n",
       "      <td>1</td>\n",
       "      <td>4</td>\n",
       "      <td>3</td>\n",
       "      <td>4</td>\n",
       "      <td>0</td>\n",
       "    </tr>\n",
       "    <tr>\n",
       "      <th>1545439</th>\n",
       "      <td>129474</td>\n",
       "      <td>29</td>\n",
       "      <td>0</td>\n",
       "      <td>22</td>\n",
       "      <td>7.0</td>\n",
       "      <td>83</td>\n",
       "      <td>10</td>\n",
       "      <td>1</td>\n",
       "      <td>4</td>\n",
       "      <td>3</td>\n",
       "      <td>4</td>\n",
       "      <td>0</td>\n",
       "    </tr>\n",
       "  </tbody>\n",
       "</table>\n",
       "</div>"
      ],
      "text/plain": [
       "         user_id  order_number  order_dow  order_hour_of_day  \\\n",
       "1278259   108525             9          0                 20   \n",
       "1250071    56014            41          3                 17   \n",
       "1572282   189321            12          3                 14   \n",
       "1948487    90870             3          6                  8   \n",
       "1545439   129474            29          0                 22   \n",
       "\n",
       "         days_since_prior_order  product_id  add_to_cart_order  reordered  \\\n",
       "1278259                    20.0          34                 22          1   \n",
       "1250071                     8.0          53                  1          1   \n",
       "1572282                     5.0          48                  9          0   \n",
       "1948487                    11.0          83                  3          1   \n",
       "1545439                     7.0          83                 10          1   \n",
       "\n",
       "         department_id  department  product_name  clusters  \n",
       "1278259              1           6            75         0  \n",
       "1250071             16           2            19         1  \n",
       "1572282             14           9            84         2  \n",
       "1948487              4           3             4         0  \n",
       "1545439              4           3             4         0  "
      ]
     },
     "execution_count": 34,
     "metadata": {},
     "output_type": "execute_result"
    }
   ],
   "source": [
    "x['clusters']  = labels\n",
    "x.head()"
   ]
  },
  {
   "cell_type": "code",
   "execution_count": 35,
   "id": "50506738",
   "metadata": {},
   "outputs": [
    {
     "data": {
      "text/plain": [
       "0    3610\n",
       "1    3450\n",
       "2    2940\n",
       "Name: clusters, dtype: int64"
      ]
     },
     "execution_count": 35,
     "metadata": {},
     "output_type": "execute_result"
    }
   ],
   "source": [
    "x['clusters'].value_counts()"
   ]
  },
  {
   "cell_type": "code",
   "execution_count": null,
   "id": "c21158d5",
   "metadata": {},
   "outputs": [],
   "source": []
  }
 ],
 "metadata": {
  "kernelspec": {
   "display_name": "Python 3 (ipykernel)",
   "language": "python",
   "name": "python3"
  },
  "language_info": {
   "codemirror_mode": {
    "name": "ipython",
    "version": 3
   },
   "file_extension": ".py",
   "mimetype": "text/x-python",
   "name": "python",
   "nbconvert_exporter": "python",
   "pygments_lexer": "ipython3",
   "version": "3.9.13"
  }
 },
 "nbformat": 4,
 "nbformat_minor": 5
}
