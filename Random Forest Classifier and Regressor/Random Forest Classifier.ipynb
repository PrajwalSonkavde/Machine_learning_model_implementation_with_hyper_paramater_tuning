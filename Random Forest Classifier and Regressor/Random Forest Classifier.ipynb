{
 "cells": [
  {
   "cell_type": "code",
   "execution_count": 1,
   "id": "c065d78b",
   "metadata": {},
   "outputs": [],
   "source": [
    "import pandas as pd"
   ]
  },
  {
   "cell_type": "code",
   "execution_count": 2,
   "id": "6ab206fa",
   "metadata": {},
   "outputs": [],
   "source": [
    "df = pd.read_csv(\"car_evaluation.csv\")"
   ]
  },
  {
   "cell_type": "markdown",
   "id": "1e01f57b",
   "metadata": {},
   "source": [
    "## EDA"
   ]
  },
  {
   "cell_type": "code",
   "execution_count": 3,
   "id": "41465b0e",
   "metadata": {},
   "outputs": [
    {
     "data": {
      "text/html": [
       "<div>\n",
       "<style scoped>\n",
       "    .dataframe tbody tr th:only-of-type {\n",
       "        vertical-align: middle;\n",
       "    }\n",
       "\n",
       "    .dataframe tbody tr th {\n",
       "        vertical-align: top;\n",
       "    }\n",
       "\n",
       "    .dataframe thead th {\n",
       "        text-align: right;\n",
       "    }\n",
       "</style>\n",
       "<table border=\"1\" class=\"dataframe\">\n",
       "  <thead>\n",
       "    <tr style=\"text-align: right;\">\n",
       "      <th></th>\n",
       "      <th>vhigh</th>\n",
       "      <th>vhigh.1</th>\n",
       "      <th>2</th>\n",
       "      <th>2.1</th>\n",
       "      <th>small</th>\n",
       "      <th>low</th>\n",
       "      <th>unacc</th>\n",
       "    </tr>\n",
       "  </thead>\n",
       "  <tbody>\n",
       "    <tr>\n",
       "      <th>0</th>\n",
       "      <td>vhigh</td>\n",
       "      <td>vhigh</td>\n",
       "      <td>2</td>\n",
       "      <td>2</td>\n",
       "      <td>small</td>\n",
       "      <td>med</td>\n",
       "      <td>unacc</td>\n",
       "    </tr>\n",
       "    <tr>\n",
       "      <th>1</th>\n",
       "      <td>vhigh</td>\n",
       "      <td>vhigh</td>\n",
       "      <td>2</td>\n",
       "      <td>2</td>\n",
       "      <td>small</td>\n",
       "      <td>high</td>\n",
       "      <td>unacc</td>\n",
       "    </tr>\n",
       "    <tr>\n",
       "      <th>2</th>\n",
       "      <td>vhigh</td>\n",
       "      <td>vhigh</td>\n",
       "      <td>2</td>\n",
       "      <td>2</td>\n",
       "      <td>med</td>\n",
       "      <td>low</td>\n",
       "      <td>unacc</td>\n",
       "    </tr>\n",
       "    <tr>\n",
       "      <th>3</th>\n",
       "      <td>vhigh</td>\n",
       "      <td>vhigh</td>\n",
       "      <td>2</td>\n",
       "      <td>2</td>\n",
       "      <td>med</td>\n",
       "      <td>med</td>\n",
       "      <td>unacc</td>\n",
       "    </tr>\n",
       "    <tr>\n",
       "      <th>4</th>\n",
       "      <td>vhigh</td>\n",
       "      <td>vhigh</td>\n",
       "      <td>2</td>\n",
       "      <td>2</td>\n",
       "      <td>med</td>\n",
       "      <td>high</td>\n",
       "      <td>unacc</td>\n",
       "    </tr>\n",
       "  </tbody>\n",
       "</table>\n",
       "</div>"
      ],
      "text/plain": [
       "   vhigh vhigh.1  2 2.1  small   low  unacc\n",
       "0  vhigh   vhigh  2   2  small   med  unacc\n",
       "1  vhigh   vhigh  2   2  small  high  unacc\n",
       "2  vhigh   vhigh  2   2    med   low  unacc\n",
       "3  vhigh   vhigh  2   2    med   med  unacc\n",
       "4  vhigh   vhigh  2   2    med  high  unacc"
      ]
     },
     "execution_count": 3,
     "metadata": {},
     "output_type": "execute_result"
    }
   ],
   "source": [
    "df.head()"
   ]
  },
  {
   "cell_type": "code",
   "execution_count": 4,
   "id": "c83264f2",
   "metadata": {},
   "outputs": [
    {
     "data": {
      "text/plain": [
       "vhigh      0\n",
       "vhigh.1    0\n",
       "2          0\n",
       "2.1        0\n",
       "small      0\n",
       "low        0\n",
       "unacc      0\n",
       "dtype: int64"
      ]
     },
     "execution_count": 4,
     "metadata": {},
     "output_type": "execute_result"
    }
   ],
   "source": [
    "df.isnull().sum()"
   ]
  },
  {
   "cell_type": "code",
   "execution_count": 5,
   "id": "a1a7d2c9",
   "metadata": {},
   "outputs": [
    {
     "name": "stdout",
     "output_type": "stream",
     "text": [
      "<class 'pandas.core.frame.DataFrame'>\n",
      "RangeIndex: 1727 entries, 0 to 1726\n",
      "Data columns (total 7 columns):\n",
      " #   Column   Non-Null Count  Dtype \n",
      "---  ------   --------------  ----- \n",
      " 0   vhigh    1727 non-null   object\n",
      " 1   vhigh.1  1727 non-null   object\n",
      " 2   2        1727 non-null   object\n",
      " 3   2.1      1727 non-null   object\n",
      " 4   small    1727 non-null   object\n",
      " 5   low      1727 non-null   object\n",
      " 6   unacc    1727 non-null   object\n",
      "dtypes: object(7)\n",
      "memory usage: 94.6+ KB\n"
     ]
    }
   ],
   "source": [
    "df.info()"
   ]
  },
  {
   "cell_type": "markdown",
   "id": "bdbb2b68",
   "metadata": {},
   "source": [
    "## Feature Engineering"
   ]
  },
  {
   "cell_type": "code",
   "execution_count": 6,
   "id": "35bc41cb",
   "metadata": {},
   "outputs": [
    {
     "data": {
      "text/plain": [
       "array(['vhigh', 'high', 'med', 'low'], dtype=object)"
      ]
     },
     "execution_count": 6,
     "metadata": {},
     "output_type": "execute_result"
    }
   ],
   "source": [
    "df['vhigh'].unique()"
   ]
  },
  {
   "cell_type": "code",
   "execution_count": 7,
   "id": "f0bee175",
   "metadata": {},
   "outputs": [],
   "source": [
    "dict = {\n",
    "    'vhigh':0, 'high':1, 'med':2, 'low':3\n",
    "}\n",
    "df['vhigh'] = df.vhigh.map(dict)"
   ]
  },
  {
   "cell_type": "code",
   "execution_count": 8,
   "id": "2eb5657e",
   "metadata": {},
   "outputs": [
    {
     "data": {
      "text/plain": [
       "array(['vhigh', 'high', 'med', 'low'], dtype=object)"
      ]
     },
     "execution_count": 8,
     "metadata": {},
     "output_type": "execute_result"
    }
   ],
   "source": [
    "df['vhigh.1'].unique()"
   ]
  },
  {
   "cell_type": "code",
   "execution_count": 9,
   "id": "9545d552",
   "metadata": {},
   "outputs": [],
   "source": [
    "dict = {\n",
    "   'vhigh':0, 'high':1, 'med':2, 'low':3\n",
    "}\n",
    "df['vhigh.1'] = df['vhigh.1'].map(dict)"
   ]
  },
  {
   "cell_type": "code",
   "execution_count": 10,
   "id": "c86ca608",
   "metadata": {},
   "outputs": [
    {
     "data": {
      "text/plain": [
       "array(['small', 'med', 'big'], dtype=object)"
      ]
     },
     "execution_count": 10,
     "metadata": {},
     "output_type": "execute_result"
    }
   ],
   "source": [
    "df['small'].unique()"
   ]
  },
  {
   "cell_type": "code",
   "execution_count": 11,
   "id": "ed4ec4ed",
   "metadata": {},
   "outputs": [],
   "source": [
    "dict = {\n",
    "   'small':0, 'med':1, 'big':2\n",
    "}\n",
    "df['small'] = df.small.map(dict)"
   ]
  },
  {
   "cell_type": "code",
   "execution_count": 12,
   "id": "71044457",
   "metadata": {},
   "outputs": [
    {
     "data": {
      "text/plain": [
       "array(['unacc', 'acc', 'vgood', 'good'], dtype=object)"
      ]
     },
     "execution_count": 12,
     "metadata": {},
     "output_type": "execute_result"
    }
   ],
   "source": [
    "df['unacc'].unique()"
   ]
  },
  {
   "cell_type": "code",
   "execution_count": 13,
   "id": "40714b5a",
   "metadata": {},
   "outputs": [],
   "source": [
    "dict = {\n",
    "  'unacc':0, 'acc':1, 'vgood':2, 'good':3\n",
    "}\n",
    "df['unacc'] = df.unacc.map(dict)"
   ]
  },
  {
   "cell_type": "code",
   "execution_count": 14,
   "id": "3768178a",
   "metadata": {},
   "outputs": [
    {
     "data": {
      "text/plain": [
       "array(['med', 'high', 'low'], dtype=object)"
      ]
     },
     "execution_count": 14,
     "metadata": {},
     "output_type": "execute_result"
    }
   ],
   "source": [
    "df['low'].unique()"
   ]
  },
  {
   "cell_type": "code",
   "execution_count": 15,
   "id": "8f9f4d41",
   "metadata": {},
   "outputs": [],
   "source": [
    "dict = {\n",
    "  'med':0, 'high':1, 'low':2\n",
    "}\n",
    "df['low'] = df.low.map(dict)"
   ]
  },
  {
   "cell_type": "code",
   "execution_count": 16,
   "id": "c2e13abc",
   "metadata": {},
   "outputs": [
    {
     "data": {
      "text/plain": [
       "array(['2', '3', '4', '5more'], dtype=object)"
      ]
     },
     "execution_count": 16,
     "metadata": {},
     "output_type": "execute_result"
    }
   ],
   "source": [
    "df['2'].unique()"
   ]
  },
  {
   "cell_type": "code",
   "execution_count": 17,
   "id": "bbf9681c",
   "metadata": {},
   "outputs": [],
   "source": [
    "dict = {\n",
    "  '2':0, '3':1, '4':2, '5more':3\n",
    "}\n",
    "df['2'] = df['2'].map(dict)"
   ]
  },
  {
   "cell_type": "code",
   "execution_count": 18,
   "id": "4611c4bc",
   "metadata": {},
   "outputs": [
    {
     "data": {
      "text/plain": [
       "array(['2', '4', 'more'], dtype=object)"
      ]
     },
     "execution_count": 18,
     "metadata": {},
     "output_type": "execute_result"
    }
   ],
   "source": [
    "df['2.1'].unique()"
   ]
  },
  {
   "cell_type": "code",
   "execution_count": 19,
   "id": "b837e67f",
   "metadata": {},
   "outputs": [],
   "source": [
    "dict = {\n",
    "  '2':0, '4':1, 'more':2\n",
    "}\n",
    "df['2.1'] = df['2.1'].map(dict)"
   ]
  },
  {
   "cell_type": "code",
   "execution_count": 20,
   "id": "daf08be7",
   "metadata": {},
   "outputs": [
    {
     "data": {
      "text/html": [
       "<div>\n",
       "<style scoped>\n",
       "    .dataframe tbody tr th:only-of-type {\n",
       "        vertical-align: middle;\n",
       "    }\n",
       "\n",
       "    .dataframe tbody tr th {\n",
       "        vertical-align: top;\n",
       "    }\n",
       "\n",
       "    .dataframe thead th {\n",
       "        text-align: right;\n",
       "    }\n",
       "</style>\n",
       "<table border=\"1\" class=\"dataframe\">\n",
       "  <thead>\n",
       "    <tr style=\"text-align: right;\">\n",
       "      <th></th>\n",
       "      <th>vhigh</th>\n",
       "      <th>vhigh.1</th>\n",
       "      <th>2</th>\n",
       "      <th>2.1</th>\n",
       "      <th>small</th>\n",
       "      <th>low</th>\n",
       "      <th>unacc</th>\n",
       "    </tr>\n",
       "  </thead>\n",
       "  <tbody>\n",
       "    <tr>\n",
       "      <th>0</th>\n",
       "      <td>0</td>\n",
       "      <td>0</td>\n",
       "      <td>0</td>\n",
       "      <td>0</td>\n",
       "      <td>0</td>\n",
       "      <td>0</td>\n",
       "      <td>0</td>\n",
       "    </tr>\n",
       "    <tr>\n",
       "      <th>1</th>\n",
       "      <td>0</td>\n",
       "      <td>0</td>\n",
       "      <td>0</td>\n",
       "      <td>0</td>\n",
       "      <td>0</td>\n",
       "      <td>1</td>\n",
       "      <td>0</td>\n",
       "    </tr>\n",
       "    <tr>\n",
       "      <th>2</th>\n",
       "      <td>0</td>\n",
       "      <td>0</td>\n",
       "      <td>0</td>\n",
       "      <td>0</td>\n",
       "      <td>1</td>\n",
       "      <td>2</td>\n",
       "      <td>0</td>\n",
       "    </tr>\n",
       "    <tr>\n",
       "      <th>3</th>\n",
       "      <td>0</td>\n",
       "      <td>0</td>\n",
       "      <td>0</td>\n",
       "      <td>0</td>\n",
       "      <td>1</td>\n",
       "      <td>0</td>\n",
       "      <td>0</td>\n",
       "    </tr>\n",
       "    <tr>\n",
       "      <th>4</th>\n",
       "      <td>0</td>\n",
       "      <td>0</td>\n",
       "      <td>0</td>\n",
       "      <td>0</td>\n",
       "      <td>1</td>\n",
       "      <td>1</td>\n",
       "      <td>0</td>\n",
       "    </tr>\n",
       "  </tbody>\n",
       "</table>\n",
       "</div>"
      ],
      "text/plain": [
       "   vhigh  vhigh.1  2  2.1  small  low  unacc\n",
       "0      0        0  0    0      0    0      0\n",
       "1      0        0  0    0      0    1      0\n",
       "2      0        0  0    0      1    2      0\n",
       "3      0        0  0    0      1    0      0\n",
       "4      0        0  0    0      1    1      0"
      ]
     },
     "execution_count": 20,
     "metadata": {},
     "output_type": "execute_result"
    }
   ],
   "source": [
    "df.head()"
   ]
  },
  {
   "cell_type": "markdown",
   "id": "4bf603d1",
   "metadata": {},
   "source": [
    "## Spliting data"
   ]
  },
  {
   "cell_type": "code",
   "execution_count": 21,
   "id": "5592c9d0",
   "metadata": {},
   "outputs": [],
   "source": [
    "from sklearn.model_selection import train_test_split"
   ]
  },
  {
   "cell_type": "code",
   "execution_count": 22,
   "id": "bcf5a032",
   "metadata": {},
   "outputs": [],
   "source": [
    "x=df.drop(['unacc'],axis=1)\n",
    "y=df['unacc']"
   ]
  },
  {
   "cell_type": "code",
   "execution_count": 23,
   "id": "8048dd95",
   "metadata": {},
   "outputs": [],
   "source": [
    "x_train ,x_test , y_train , y_test = train_test_split(x,y,test_size=0.2,random_state=42)"
   ]
  },
  {
   "cell_type": "code",
   "execution_count": 24,
   "id": "67329637",
   "metadata": {},
   "outputs": [
    {
     "data": {
      "text/html": [
       "<div>\n",
       "<style scoped>\n",
       "    .dataframe tbody tr th:only-of-type {\n",
       "        vertical-align: middle;\n",
       "    }\n",
       "\n",
       "    .dataframe tbody tr th {\n",
       "        vertical-align: top;\n",
       "    }\n",
       "\n",
       "    .dataframe thead th {\n",
       "        text-align: right;\n",
       "    }\n",
       "</style>\n",
       "<table border=\"1\" class=\"dataframe\">\n",
       "  <thead>\n",
       "    <tr style=\"text-align: right;\">\n",
       "      <th></th>\n",
       "      <th>vhigh</th>\n",
       "      <th>vhigh.1</th>\n",
       "      <th>2</th>\n",
       "      <th>2.1</th>\n",
       "      <th>small</th>\n",
       "      <th>low</th>\n",
       "    </tr>\n",
       "  </thead>\n",
       "  <tbody>\n",
       "    <tr>\n",
       "      <th>107</th>\n",
       "      <td>0</td>\n",
       "      <td>1</td>\n",
       "      <td>0</td>\n",
       "      <td>0</td>\n",
       "      <td>0</td>\n",
       "      <td>2</td>\n",
       "    </tr>\n",
       "    <tr>\n",
       "      <th>900</th>\n",
       "      <td>2</td>\n",
       "      <td>0</td>\n",
       "      <td>1</td>\n",
       "      <td>1</td>\n",
       "      <td>0</td>\n",
       "      <td>0</td>\n",
       "    </tr>\n",
       "    <tr>\n",
       "      <th>1708</th>\n",
       "      <td>3</td>\n",
       "      <td>3</td>\n",
       "      <td>3</td>\n",
       "      <td>0</td>\n",
       "      <td>2</td>\n",
       "      <td>1</td>\n",
       "    </tr>\n",
       "    <tr>\n",
       "      <th>705</th>\n",
       "      <td>1</td>\n",
       "      <td>2</td>\n",
       "      <td>2</td>\n",
       "      <td>0</td>\n",
       "      <td>1</td>\n",
       "      <td>0</td>\n",
       "    </tr>\n",
       "    <tr>\n",
       "      <th>678</th>\n",
       "      <td>1</td>\n",
       "      <td>2</td>\n",
       "      <td>1</td>\n",
       "      <td>0</td>\n",
       "      <td>1</td>\n",
       "      <td>0</td>\n",
       "    </tr>\n",
       "  </tbody>\n",
       "</table>\n",
       "</div>"
      ],
      "text/plain": [
       "      vhigh  vhigh.1  2  2.1  small  low\n",
       "107       0        1  0    0      0    2\n",
       "900       2        0  1    1      0    0\n",
       "1708      3        3  3    0      2    1\n",
       "705       1        2  2    0      1    0\n",
       "678       1        2  1    0      1    0"
      ]
     },
     "execution_count": 24,
     "metadata": {},
     "output_type": "execute_result"
    }
   ],
   "source": [
    "x_train.head()"
   ]
  },
  {
   "cell_type": "code",
   "execution_count": 25,
   "id": "2c0abf5e",
   "metadata": {},
   "outputs": [
    {
     "data": {
      "text/plain": [
       "107     0\n",
       "900     0\n",
       "1708    0\n",
       "705     0\n",
       "678     0\n",
       "Name: unacc, dtype: int64"
      ]
     },
     "execution_count": 25,
     "metadata": {},
     "output_type": "execute_result"
    }
   ],
   "source": [
    "y_train.head()"
   ]
  },
  {
   "cell_type": "markdown",
   "id": "23e6e568",
   "metadata": {},
   "source": [
    "## Applying Random Forest using GridSearchCV"
   ]
  },
  {
   "cell_type": "code",
   "execution_count": 26,
   "id": "887e6161",
   "metadata": {},
   "outputs": [],
   "source": [
    "from sklearn.ensemble import RandomForestClassifier\n",
    "from sklearn.model_selection import GridSearchCV"
   ]
  },
  {
   "cell_type": "markdown",
   "id": "afd51562",
   "metadata": {},
   "source": [
    "n_estimatorsint, default=100 : The number of trees in the forest.\n",
    "\n",
    "criterion{“gini”, “entropy”, “log_loss”}, default=”gini” : The function to measure the quality of a split. Supported criteria are “gini” for the Gini impurity and “log_loss” and “entropy” both for the Shannon information gain, see Mathematical formulation. Note: This parameter is tree-specific.\n",
    "\n",
    "max_depth int, default=None : The maximum depth of the tree. If None, then nodes are expanded until all leaves are pure or until all leaves contain less than min_samples_split samples.\n",
    "\n",
    "min_samples_split int or float, default=2 : The minimum number of samples required to split an internal node,If int, then consider min_samples_split as the minimum number , If float, then min_samples_split is a fraction and ceil(min_samples_split * n_samples) are the minimum number of samples for each split.\n",
    "\n",
    "min_samples_leafint or float, default=1 : The minimum number of samples required to be at a leaf node. A split point at any depth will only be considered if it leaves at least min_samples_leaf training samples in each of the left and right branches. This may have the effect of smoothing the model, especially in regression,If int, then consider min_samples_leaf as the minimum number,If float, then min_samples_leaf is a fraction and ceil(min_samples_leaf * n_samples) are the minimum number of samples for each node.\n",
    "\n",
    "min_weight_fraction_leaf float, default=0.0 : The minimum weighted fraction of the sum total of weights (of all the input samples) required to be at a leaf node. Samples have equal weight when sample_weight is not provided.\n",
    "\n",
    "max_features{“sqrt”, “log2”, None}, int or float, default=”sqrt” : The number of features to consider when looking for the best split , If int, then consider max_features features at each split ,If float, then max_features is a fraction and max(1, int(max_features * n_features_in_)) features are considered at each split, If “auto”, then max_features=sqrt(n_features),If “sqrt”, then max_features=sqrt(n_features), If “log2”, then max_features=log2(n_features),If None, then max_features=n_features.\n",
    "\n",
    "max_leaf_nodes int, default=None : Grow trees with max_leaf_nodes in best-first fashion. Best nodes are defined as relative reduction in impurity. If None then unlimited number of leaf nodes.\n",
    "\n",
    "min_impurity_decreasefloat, default=0.0 : A node will be split if this split induces a decrease of the impurity greater than or equal to this value.\n",
    "\n",
    "bootstrap bool, default=True : Whether bootstrap samples are used when building trees. If False, the whole dataset is used to build each tree.\n",
    "\n",
    "oob_score bool, default=False : Whether to use out-of-bag samples to estimate the generalization score. Only available if bootstrap=True.\n",
    "\n",
    "n_jobs int, default=None : The number of jobs to run in parallel. fit, predict, decision_path and apply are all parallelized over the trees. None means 1 unless in a joblib.parallel_backend context. -1 means using all processors. See Glossary for more details.\n",
    "\n",
    "random_state int, RandomState instance or None, default=None : Controls both the randomness of the bootstrapping of the samples used when building trees (if bootstrap=True) and the sampling of the features to consider when looking for the best split at each node (if max_features < n_features).\n",
    "\n",
    "verbose int, default=0 : Controls the verbosity when fitting and predicting.\n",
    "\n",
    "warm_start bool, default=False : When set to True, reuse the solution of the previous call to fit and add more estimators to the ensemble, otherwise, just fit a whole new forest. See Glossary and Fitting additional weak-learners for details.\n",
    "\n",
    "class_weight{“balanced”, “balanced_subsample”}, dict or list of dicts, default=None : Weights associated with classes in the form {class_label: weight}. If not given, all classes are supposed to have weight one. For multi-output problems, a list of dicts can be provided in the same order as the columns of y, Note that for multioutput (including multilabel) weights should be defined for each class of every column in its own dict. For example, for four-class multilabel classification weights should be [{0: 1, 1: 1}, {0: 1, 1: 5}, {0: 1, 1: 1}, {0: 1, 1: 1}] instead of [{1:1}, {2:5}, {3:1}, {4:1}] , The “balanced” mode uses the values of y to automatically adjust weights inversely proportional to class frequencies in the input data as n_samples / (n_classes * np.bincount(y)) ,The “balanced_subsample” mode is the same as “balanced” except that weights are computed based on the bootstrap sample for every tree grown, For multi-output, the weights of each column of y will be multiplied,Note that these weights will be multiplied with sample_weight (passed through the fit method) if sample_weight is specified.\n",
    "\n",
    "ccp_alpha non-negative float, default=0.0 : Complexity parameter used for Minimal Cost-Complexity Pruning. The subtree with the largest cost complexity that is smaller than ccp_alpha will be chosen. By default, no pruning is performed. See Minimal Cost-Complexity Pruning for details.https://www.youtube.com/watch?v=DSL318pDTAY\n",
    "\n",
    "max_samples int or float, default=None : If bootstrap is True, the number of samples to draw from X to train each base estimator, If None (default), then draw X.shape[0] samples,If int, then draw max_samples samples, If float, then draw max_samples * X.shape[0] samples. Thus, max_samples should be in the interval (0.0, 1.0]."
   ]
  },
  {
   "cell_type": "code",
   "execution_count": 32,
   "id": "5286e12d",
   "metadata": {},
   "outputs": [],
   "source": [
    "params = {\n",
    "    'n_estimators':[100,200],\n",
    "    'bootstrap' : [True,False],\n",
    "    'oob_score' : [True,False],\n",
    "    'n_jobs': [-1],\n",
    "    'ccp_alpha' :[0.00001,0.0001,0.001,0.01,0.1,1,2]\n",
    "}"
   ]
  },
  {
   "cell_type": "code",
   "execution_count": 33,
   "id": "114df930",
   "metadata": {},
   "outputs": [],
   "source": [
    "rf = RandomForestClassifier()\n",
    "gs_rf = GridSearchCV(rf , param_grid = params,cv=5 , verbose=2,scoring='accuracy')"
   ]
  },
  {
   "cell_type": "markdown",
   "id": "f7d9bfd9",
   "metadata": {},
   "source": [
    "**can also train on different models**"
   ]
  },
  {
   "cell_type": "code",
   "execution_count": 34,
   "id": "30eee0a7",
   "metadata": {},
   "outputs": [
    {
     "name": "stdout",
     "output_type": "stream",
     "text": [
      "Fitting 5 folds for each of 56 candidates, totalling 280 fits\n",
      "[CV] END bootstrap=True, ccp_alpha=1e-05, n_estimators=100, n_jobs=-1, oob_score=True; total time=   0.1s\n",
      "[CV] END bootstrap=True, ccp_alpha=1e-05, n_estimators=100, n_jobs=-1, oob_score=True; total time=   0.1s\n",
      "[CV] END bootstrap=True, ccp_alpha=1e-05, n_estimators=100, n_jobs=-1, oob_score=True; total time=   0.1s\n",
      "[CV] END bootstrap=True, ccp_alpha=1e-05, n_estimators=100, n_jobs=-1, oob_score=True; total time=   0.1s\n",
      "[CV] END bootstrap=True, ccp_alpha=1e-05, n_estimators=100, n_jobs=-1, oob_score=True; total time=   0.1s\n",
      "[CV] END bootstrap=True, ccp_alpha=1e-05, n_estimators=100, n_jobs=-1, oob_score=False; total time=   0.0s\n",
      "[CV] END bootstrap=True, ccp_alpha=1e-05, n_estimators=100, n_jobs=-1, oob_score=False; total time=   0.0s\n",
      "[CV] END bootstrap=True, ccp_alpha=1e-05, n_estimators=100, n_jobs=-1, oob_score=False; total time=   0.0s\n",
      "[CV] END bootstrap=True, ccp_alpha=1e-05, n_estimators=100, n_jobs=-1, oob_score=False; total time=   0.0s\n",
      "[CV] END bootstrap=True, ccp_alpha=1e-05, n_estimators=100, n_jobs=-1, oob_score=False; total time=   0.0s\n",
      "[CV] END bootstrap=True, ccp_alpha=1e-05, n_estimators=200, n_jobs=-1, oob_score=True; total time=   0.2s\n",
      "[CV] END bootstrap=True, ccp_alpha=1e-05, n_estimators=200, n_jobs=-1, oob_score=True; total time=   0.2s\n",
      "[CV] END bootstrap=True, ccp_alpha=1e-05, n_estimators=200, n_jobs=-1, oob_score=True; total time=   0.2s\n",
      "[CV] END bootstrap=True, ccp_alpha=1e-05, n_estimators=200, n_jobs=-1, oob_score=True; total time=   0.2s\n",
      "[CV] END bootstrap=True, ccp_alpha=1e-05, n_estimators=200, n_jobs=-1, oob_score=True; total time=   0.2s\n",
      "[CV] END bootstrap=True, ccp_alpha=1e-05, n_estimators=200, n_jobs=-1, oob_score=False; total time=   0.1s\n",
      "[CV] END bootstrap=True, ccp_alpha=1e-05, n_estimators=200, n_jobs=-1, oob_score=False; total time=   0.1s\n",
      "[CV] END bootstrap=True, ccp_alpha=1e-05, n_estimators=200, n_jobs=-1, oob_score=False; total time=   0.1s\n",
      "[CV] END bootstrap=True, ccp_alpha=1e-05, n_estimators=200, n_jobs=-1, oob_score=False; total time=   0.1s\n",
      "[CV] END bootstrap=True, ccp_alpha=1e-05, n_estimators=200, n_jobs=-1, oob_score=False; total time=   0.1s\n",
      "[CV] END bootstrap=True, ccp_alpha=0.0001, n_estimators=100, n_jobs=-1, oob_score=True; total time=   0.1s\n",
      "[CV] END bootstrap=True, ccp_alpha=0.0001, n_estimators=100, n_jobs=-1, oob_score=True; total time=   0.1s\n",
      "[CV] END bootstrap=True, ccp_alpha=0.0001, n_estimators=100, n_jobs=-1, oob_score=True; total time=   0.1s\n",
      "[CV] END bootstrap=True, ccp_alpha=0.0001, n_estimators=100, n_jobs=-1, oob_score=True; total time=   0.1s\n",
      "[CV] END bootstrap=True, ccp_alpha=0.0001, n_estimators=100, n_jobs=-1, oob_score=True; total time=   0.1s\n",
      "[CV] END bootstrap=True, ccp_alpha=0.0001, n_estimators=100, n_jobs=-1, oob_score=False; total time=   0.0s\n",
      "[CV] END bootstrap=True, ccp_alpha=0.0001, n_estimators=100, n_jobs=-1, oob_score=False; total time=   0.0s\n",
      "[CV] END bootstrap=True, ccp_alpha=0.0001, n_estimators=100, n_jobs=-1, oob_score=False; total time=   0.0s\n",
      "[CV] END bootstrap=True, ccp_alpha=0.0001, n_estimators=100, n_jobs=-1, oob_score=False; total time=   0.0s\n",
      "[CV] END bootstrap=True, ccp_alpha=0.0001, n_estimators=100, n_jobs=-1, oob_score=False; total time=   0.0s\n",
      "[CV] END bootstrap=True, ccp_alpha=0.0001, n_estimators=200, n_jobs=-1, oob_score=True; total time=   0.2s\n",
      "[CV] END bootstrap=True, ccp_alpha=0.0001, n_estimators=200, n_jobs=-1, oob_score=True; total time=   0.2s\n",
      "[CV] END bootstrap=True, ccp_alpha=0.0001, n_estimators=200, n_jobs=-1, oob_score=True; total time=   0.2s\n",
      "[CV] END bootstrap=True, ccp_alpha=0.0001, n_estimators=200, n_jobs=-1, oob_score=True; total time=   0.2s\n",
      "[CV] END bootstrap=True, ccp_alpha=0.0001, n_estimators=200, n_jobs=-1, oob_score=True; total time=   0.2s\n",
      "[CV] END bootstrap=True, ccp_alpha=0.0001, n_estimators=200, n_jobs=-1, oob_score=False; total time=   0.1s\n",
      "[CV] END bootstrap=True, ccp_alpha=0.0001, n_estimators=200, n_jobs=-1, oob_score=False; total time=   0.1s\n",
      "[CV] END bootstrap=True, ccp_alpha=0.0001, n_estimators=200, n_jobs=-1, oob_score=False; total time=   0.1s\n",
      "[CV] END bootstrap=True, ccp_alpha=0.0001, n_estimators=200, n_jobs=-1, oob_score=False; total time=   0.1s\n",
      "[CV] END bootstrap=True, ccp_alpha=0.0001, n_estimators=200, n_jobs=-1, oob_score=False; total time=   0.1s\n",
      "[CV] END bootstrap=True, ccp_alpha=0.001, n_estimators=100, n_jobs=-1, oob_score=True; total time=   0.1s\n",
      "[CV] END bootstrap=True, ccp_alpha=0.001, n_estimators=100, n_jobs=-1, oob_score=True; total time=   0.1s\n",
      "[CV] END bootstrap=True, ccp_alpha=0.001, n_estimators=100, n_jobs=-1, oob_score=True; total time=   0.0s\n",
      "[CV] END bootstrap=True, ccp_alpha=0.001, n_estimators=100, n_jobs=-1, oob_score=True; total time=   0.1s\n",
      "[CV] END bootstrap=True, ccp_alpha=0.001, n_estimators=100, n_jobs=-1, oob_score=True; total time=   0.1s\n",
      "[CV] END bootstrap=True, ccp_alpha=0.001, n_estimators=100, n_jobs=-1, oob_score=False; total time=   0.0s\n",
      "[CV] END bootstrap=True, ccp_alpha=0.001, n_estimators=100, n_jobs=-1, oob_score=False; total time=   0.0s\n",
      "[CV] END bootstrap=True, ccp_alpha=0.001, n_estimators=100, n_jobs=-1, oob_score=False; total time=   0.0s\n",
      "[CV] END bootstrap=True, ccp_alpha=0.001, n_estimators=100, n_jobs=-1, oob_score=False; total time=   0.0s\n",
      "[CV] END bootstrap=True, ccp_alpha=0.001, n_estimators=100, n_jobs=-1, oob_score=False; total time=   0.0s\n",
      "[CV] END bootstrap=True, ccp_alpha=0.001, n_estimators=200, n_jobs=-1, oob_score=True; total time=   0.2s\n",
      "[CV] END bootstrap=True, ccp_alpha=0.001, n_estimators=200, n_jobs=-1, oob_score=True; total time=   0.2s\n",
      "[CV] END bootstrap=True, ccp_alpha=0.001, n_estimators=200, n_jobs=-1, oob_score=True; total time=   0.2s\n",
      "[CV] END bootstrap=True, ccp_alpha=0.001, n_estimators=200, n_jobs=-1, oob_score=True; total time=   0.2s\n",
      "[CV] END bootstrap=True, ccp_alpha=0.001, n_estimators=200, n_jobs=-1, oob_score=True; total time=   0.2s\n",
      "[CV] END bootstrap=True, ccp_alpha=0.001, n_estimators=200, n_jobs=-1, oob_score=False; total time=   0.1s\n",
      "[CV] END bootstrap=True, ccp_alpha=0.001, n_estimators=200, n_jobs=-1, oob_score=False; total time=   0.2s\n",
      "[CV] END bootstrap=True, ccp_alpha=0.001, n_estimators=200, n_jobs=-1, oob_score=False; total time=   0.1s\n",
      "[CV] END bootstrap=True, ccp_alpha=0.001, n_estimators=200, n_jobs=-1, oob_score=False; total time=   0.1s\n",
      "[CV] END bootstrap=True, ccp_alpha=0.001, n_estimators=200, n_jobs=-1, oob_score=False; total time=   0.1s\n",
      "[CV] END bootstrap=True, ccp_alpha=0.01, n_estimators=100, n_jobs=-1, oob_score=True; total time=   0.1s\n",
      "[CV] END bootstrap=True, ccp_alpha=0.01, n_estimators=100, n_jobs=-1, oob_score=True; total time=   0.0s\n",
      "[CV] END bootstrap=True, ccp_alpha=0.01, n_estimators=100, n_jobs=-1, oob_score=True; total time=   0.1s\n",
      "[CV] END bootstrap=True, ccp_alpha=0.01, n_estimators=100, n_jobs=-1, oob_score=True; total time=   0.1s\n",
      "[CV] END bootstrap=True, ccp_alpha=0.01, n_estimators=100, n_jobs=-1, oob_score=True; total time=   0.0s\n",
      "[CV] END bootstrap=True, ccp_alpha=0.01, n_estimators=100, n_jobs=-1, oob_score=False; total time=   0.0s\n",
      "[CV] END bootstrap=True, ccp_alpha=0.01, n_estimators=100, n_jobs=-1, oob_score=False; total time=   0.0s\n",
      "[CV] END bootstrap=True, ccp_alpha=0.01, n_estimators=100, n_jobs=-1, oob_score=False; total time=   0.0s\n",
      "[CV] END bootstrap=True, ccp_alpha=0.01, n_estimators=100, n_jobs=-1, oob_score=False; total time=   0.0s\n",
      "[CV] END bootstrap=True, ccp_alpha=0.01, n_estimators=100, n_jobs=-1, oob_score=False; total time=   0.0s\n",
      "[CV] END bootstrap=True, ccp_alpha=0.01, n_estimators=200, n_jobs=-1, oob_score=True; total time=   0.2s\n",
      "[CV] END bootstrap=True, ccp_alpha=0.01, n_estimators=200, n_jobs=-1, oob_score=True; total time=   0.2s\n",
      "[CV] END bootstrap=True, ccp_alpha=0.01, n_estimators=200, n_jobs=-1, oob_score=True; total time=   0.2s\n",
      "[CV] END bootstrap=True, ccp_alpha=0.01, n_estimators=200, n_jobs=-1, oob_score=True; total time=   0.2s\n",
      "[CV] END bootstrap=True, ccp_alpha=0.01, n_estimators=200, n_jobs=-1, oob_score=True; total time=   0.2s\n",
      "[CV] END bootstrap=True, ccp_alpha=0.01, n_estimators=200, n_jobs=-1, oob_score=False; total time=   0.1s\n",
      "[CV] END bootstrap=True, ccp_alpha=0.01, n_estimators=200, n_jobs=-1, oob_score=False; total time=   0.1s\n"
     ]
    },
    {
     "name": "stdout",
     "output_type": "stream",
     "text": [
      "[CV] END bootstrap=True, ccp_alpha=0.01, n_estimators=200, n_jobs=-1, oob_score=False; total time=   0.1s\n",
      "[CV] END bootstrap=True, ccp_alpha=0.01, n_estimators=200, n_jobs=-1, oob_score=False; total time=   0.1s\n",
      "[CV] END bootstrap=True, ccp_alpha=0.01, n_estimators=200, n_jobs=-1, oob_score=False; total time=   0.1s\n",
      "[CV] END bootstrap=True, ccp_alpha=0.1, n_estimators=100, n_jobs=-1, oob_score=True; total time=   0.0s\n",
      "[CV] END bootstrap=True, ccp_alpha=0.1, n_estimators=100, n_jobs=-1, oob_score=True; total time=   0.0s\n",
      "[CV] END bootstrap=True, ccp_alpha=0.1, n_estimators=100, n_jobs=-1, oob_score=True; total time=   0.0s\n",
      "[CV] END bootstrap=True, ccp_alpha=0.1, n_estimators=100, n_jobs=-1, oob_score=True; total time=   0.0s\n",
      "[CV] END bootstrap=True, ccp_alpha=0.1, n_estimators=100, n_jobs=-1, oob_score=True; total time=   0.1s\n",
      "[CV] END bootstrap=True, ccp_alpha=0.1, n_estimators=100, n_jobs=-1, oob_score=False; total time=   0.0s\n",
      "[CV] END bootstrap=True, ccp_alpha=0.1, n_estimators=100, n_jobs=-1, oob_score=False; total time=   0.0s\n",
      "[CV] END bootstrap=True, ccp_alpha=0.1, n_estimators=100, n_jobs=-1, oob_score=False; total time=   0.0s\n",
      "[CV] END bootstrap=True, ccp_alpha=0.1, n_estimators=100, n_jobs=-1, oob_score=False; total time=   0.0s\n",
      "[CV] END bootstrap=True, ccp_alpha=0.1, n_estimators=100, n_jobs=-1, oob_score=False; total time=   0.0s\n",
      "[CV] END bootstrap=True, ccp_alpha=0.1, n_estimators=200, n_jobs=-1, oob_score=True; total time=   0.2s\n",
      "[CV] END bootstrap=True, ccp_alpha=0.1, n_estimators=200, n_jobs=-1, oob_score=True; total time=   0.2s\n",
      "[CV] END bootstrap=True, ccp_alpha=0.1, n_estimators=200, n_jobs=-1, oob_score=True; total time=   0.2s\n",
      "[CV] END bootstrap=True, ccp_alpha=0.1, n_estimators=200, n_jobs=-1, oob_score=True; total time=   0.2s\n",
      "[CV] END bootstrap=True, ccp_alpha=0.1, n_estimators=200, n_jobs=-1, oob_score=True; total time=   0.2s\n",
      "[CV] END bootstrap=True, ccp_alpha=0.1, n_estimators=200, n_jobs=-1, oob_score=False; total time=   0.1s\n",
      "[CV] END bootstrap=True, ccp_alpha=0.1, n_estimators=200, n_jobs=-1, oob_score=False; total time=   0.1s\n",
      "[CV] END bootstrap=True, ccp_alpha=0.1, n_estimators=200, n_jobs=-1, oob_score=False; total time=   0.1s\n",
      "[CV] END bootstrap=True, ccp_alpha=0.1, n_estimators=200, n_jobs=-1, oob_score=False; total time=   0.1s\n",
      "[CV] END bootstrap=True, ccp_alpha=0.1, n_estimators=200, n_jobs=-1, oob_score=False; total time=   0.1s\n",
      "[CV] END bootstrap=True, ccp_alpha=1, n_estimators=100, n_jobs=-1, oob_score=True; total time=   0.0s\n",
      "[CV] END bootstrap=True, ccp_alpha=1, n_estimators=100, n_jobs=-1, oob_score=True; total time=   0.0s\n",
      "[CV] END bootstrap=True, ccp_alpha=1, n_estimators=100, n_jobs=-1, oob_score=True; total time=   0.0s\n",
      "[CV] END bootstrap=True, ccp_alpha=1, n_estimators=100, n_jobs=-1, oob_score=True; total time=   0.0s\n",
      "[CV] END bootstrap=True, ccp_alpha=1, n_estimators=100, n_jobs=-1, oob_score=True; total time=   0.0s\n",
      "[CV] END bootstrap=True, ccp_alpha=1, n_estimators=100, n_jobs=-1, oob_score=False; total time=   0.0s\n",
      "[CV] END bootstrap=True, ccp_alpha=1, n_estimators=100, n_jobs=-1, oob_score=False; total time=   0.0s\n",
      "[CV] END bootstrap=True, ccp_alpha=1, n_estimators=100, n_jobs=-1, oob_score=False; total time=   0.0s\n",
      "[CV] END bootstrap=True, ccp_alpha=1, n_estimators=100, n_jobs=-1, oob_score=False; total time=   0.0s\n",
      "[CV] END bootstrap=True, ccp_alpha=1, n_estimators=100, n_jobs=-1, oob_score=False; total time=   0.0s\n",
      "[CV] END bootstrap=True, ccp_alpha=1, n_estimators=200, n_jobs=-1, oob_score=True; total time=   0.2s\n",
      "[CV] END bootstrap=True, ccp_alpha=1, n_estimators=200, n_jobs=-1, oob_score=True; total time=   0.2s\n",
      "[CV] END bootstrap=True, ccp_alpha=1, n_estimators=200, n_jobs=-1, oob_score=True; total time=   0.2s\n",
      "[CV] END bootstrap=True, ccp_alpha=1, n_estimators=200, n_jobs=-1, oob_score=True; total time=   0.2s\n",
      "[CV] END bootstrap=True, ccp_alpha=1, n_estimators=200, n_jobs=-1, oob_score=True; total time=   0.2s\n",
      "[CV] END bootstrap=True, ccp_alpha=1, n_estimators=200, n_jobs=-1, oob_score=False; total time=   0.1s\n",
      "[CV] END bootstrap=True, ccp_alpha=1, n_estimators=200, n_jobs=-1, oob_score=False; total time=   0.1s\n",
      "[CV] END bootstrap=True, ccp_alpha=1, n_estimators=200, n_jobs=-1, oob_score=False; total time=   0.1s\n",
      "[CV] END bootstrap=True, ccp_alpha=1, n_estimators=200, n_jobs=-1, oob_score=False; total time=   0.1s\n",
      "[CV] END bootstrap=True, ccp_alpha=1, n_estimators=200, n_jobs=-1, oob_score=False; total time=   0.1s\n",
      "[CV] END bootstrap=True, ccp_alpha=2, n_estimators=100, n_jobs=-1, oob_score=True; total time=   0.0s\n",
      "[CV] END bootstrap=True, ccp_alpha=2, n_estimators=100, n_jobs=-1, oob_score=True; total time=   0.0s\n",
      "[CV] END bootstrap=True, ccp_alpha=2, n_estimators=100, n_jobs=-1, oob_score=True; total time=   0.0s\n",
      "[CV] END bootstrap=True, ccp_alpha=2, n_estimators=100, n_jobs=-1, oob_score=True; total time=   0.1s\n",
      "[CV] END bootstrap=True, ccp_alpha=2, n_estimators=100, n_jobs=-1, oob_score=True; total time=   0.0s\n",
      "[CV] END bootstrap=True, ccp_alpha=2, n_estimators=100, n_jobs=-1, oob_score=False; total time=   0.0s\n",
      "[CV] END bootstrap=True, ccp_alpha=2, n_estimators=100, n_jobs=-1, oob_score=False; total time=   0.0s\n",
      "[CV] END bootstrap=True, ccp_alpha=2, n_estimators=100, n_jobs=-1, oob_score=False; total time=   0.0s\n",
      "[CV] END bootstrap=True, ccp_alpha=2, n_estimators=100, n_jobs=-1, oob_score=False; total time=   0.0s\n",
      "[CV] END bootstrap=True, ccp_alpha=2, n_estimators=100, n_jobs=-1, oob_score=False; total time=   0.0s\n",
      "[CV] END bootstrap=True, ccp_alpha=2, n_estimators=200, n_jobs=-1, oob_score=True; total time=   0.2s\n",
      "[CV] END bootstrap=True, ccp_alpha=2, n_estimators=200, n_jobs=-1, oob_score=True; total time=   0.2s\n",
      "[CV] END bootstrap=True, ccp_alpha=2, n_estimators=200, n_jobs=-1, oob_score=True; total time=   0.2s\n",
      "[CV] END bootstrap=True, ccp_alpha=2, n_estimators=200, n_jobs=-1, oob_score=True; total time=   0.2s\n",
      "[CV] END bootstrap=True, ccp_alpha=2, n_estimators=200, n_jobs=-1, oob_score=True; total time=   0.2s\n",
      "[CV] END bootstrap=True, ccp_alpha=2, n_estimators=200, n_jobs=-1, oob_score=False; total time=   0.1s\n",
      "[CV] END bootstrap=True, ccp_alpha=2, n_estimators=200, n_jobs=-1, oob_score=False; total time=   0.2s\n",
      "[CV] END bootstrap=True, ccp_alpha=2, n_estimators=200, n_jobs=-1, oob_score=False; total time=   0.1s\n",
      "[CV] END bootstrap=True, ccp_alpha=2, n_estimators=200, n_jobs=-1, oob_score=False; total time=   0.1s\n",
      "[CV] END bootstrap=True, ccp_alpha=2, n_estimators=200, n_jobs=-1, oob_score=False; total time=   0.1s\n",
      "[CV] END bootstrap=False, ccp_alpha=1e-05, n_estimators=100, n_jobs=-1, oob_score=True; total time=   0.0s\n",
      "[CV] END bootstrap=False, ccp_alpha=1e-05, n_estimators=100, n_jobs=-1, oob_score=True; total time=   0.0s\n",
      "[CV] END bootstrap=False, ccp_alpha=1e-05, n_estimators=100, n_jobs=-1, oob_score=True; total time=   0.0s\n",
      "[CV] END bootstrap=False, ccp_alpha=1e-05, n_estimators=100, n_jobs=-1, oob_score=True; total time=   0.0s\n",
      "[CV] END bootstrap=False, ccp_alpha=1e-05, n_estimators=100, n_jobs=-1, oob_score=True; total time=   0.0s\n",
      "[CV] END bootstrap=False, ccp_alpha=1e-05, n_estimators=100, n_jobs=-1, oob_score=False; total time=   0.0s\n",
      "[CV] END bootstrap=False, ccp_alpha=1e-05, n_estimators=100, n_jobs=-1, oob_score=False; total time=   0.0s\n",
      "[CV] END bootstrap=False, ccp_alpha=1e-05, n_estimators=100, n_jobs=-1, oob_score=False; total time=   0.0s\n",
      "[CV] END bootstrap=False, ccp_alpha=1e-05, n_estimators=100, n_jobs=-1, oob_score=False; total time=   0.0s\n",
      "[CV] END bootstrap=False, ccp_alpha=1e-05, n_estimators=100, n_jobs=-1, oob_score=False; total time=   0.0s\n",
      "[CV] END bootstrap=False, ccp_alpha=1e-05, n_estimators=200, n_jobs=-1, oob_score=True; total time=   0.0s\n",
      "[CV] END bootstrap=False, ccp_alpha=1e-05, n_estimators=200, n_jobs=-1, oob_score=True; total time=   0.0s\n",
      "[CV] END bootstrap=False, ccp_alpha=1e-05, n_estimators=200, n_jobs=-1, oob_score=True; total time=   0.0s\n",
      "[CV] END bootstrap=False, ccp_alpha=1e-05, n_estimators=200, n_jobs=-1, oob_score=True; total time=   0.0s\n",
      "[CV] END bootstrap=False, ccp_alpha=1e-05, n_estimators=200, n_jobs=-1, oob_score=True; total time=   0.0s\n",
      "[CV] END bootstrap=False, ccp_alpha=1e-05, n_estimators=200, n_jobs=-1, oob_score=False; total time=   0.1s\n"
     ]
    },
    {
     "name": "stdout",
     "output_type": "stream",
     "text": [
      "[CV] END bootstrap=False, ccp_alpha=1e-05, n_estimators=200, n_jobs=-1, oob_score=False; total time=   0.1s\n",
      "[CV] END bootstrap=False, ccp_alpha=1e-05, n_estimators=200, n_jobs=-1, oob_score=False; total time=   0.1s\n",
      "[CV] END bootstrap=False, ccp_alpha=1e-05, n_estimators=200, n_jobs=-1, oob_score=False; total time=   0.1s\n",
      "[CV] END bootstrap=False, ccp_alpha=1e-05, n_estimators=200, n_jobs=-1, oob_score=False; total time=   0.1s\n",
      "[CV] END bootstrap=False, ccp_alpha=0.0001, n_estimators=100, n_jobs=-1, oob_score=True; total time=   0.0s\n",
      "[CV] END bootstrap=False, ccp_alpha=0.0001, n_estimators=100, n_jobs=-1, oob_score=True; total time=   0.0s\n",
      "[CV] END bootstrap=False, ccp_alpha=0.0001, n_estimators=100, n_jobs=-1, oob_score=True; total time=   0.0s\n",
      "[CV] END bootstrap=False, ccp_alpha=0.0001, n_estimators=100, n_jobs=-1, oob_score=True; total time=   0.0s\n",
      "[CV] END bootstrap=False, ccp_alpha=0.0001, n_estimators=100, n_jobs=-1, oob_score=True; total time=   0.0s\n",
      "[CV] END bootstrap=False, ccp_alpha=0.0001, n_estimators=100, n_jobs=-1, oob_score=False; total time=   0.0s\n",
      "[CV] END bootstrap=False, ccp_alpha=0.0001, n_estimators=100, n_jobs=-1, oob_score=False; total time=   0.0s\n",
      "[CV] END bootstrap=False, ccp_alpha=0.0001, n_estimators=100, n_jobs=-1, oob_score=False; total time=   0.0s\n",
      "[CV] END bootstrap=False, ccp_alpha=0.0001, n_estimators=100, n_jobs=-1, oob_score=False; total time=   0.0s\n",
      "[CV] END bootstrap=False, ccp_alpha=0.0001, n_estimators=100, n_jobs=-1, oob_score=False; total time=   0.0s\n",
      "[CV] END bootstrap=False, ccp_alpha=0.0001, n_estimators=200, n_jobs=-1, oob_score=True; total time=   0.0s\n",
      "[CV] END bootstrap=False, ccp_alpha=0.0001, n_estimators=200, n_jobs=-1, oob_score=True; total time=   0.0s\n",
      "[CV] END bootstrap=False, ccp_alpha=0.0001, n_estimators=200, n_jobs=-1, oob_score=True; total time=   0.0s\n",
      "[CV] END bootstrap=False, ccp_alpha=0.0001, n_estimators=200, n_jobs=-1, oob_score=True; total time=   0.0s\n",
      "[CV] END bootstrap=False, ccp_alpha=0.0001, n_estimators=200, n_jobs=-1, oob_score=True; total time=   0.0s\n",
      "[CV] END bootstrap=False, ccp_alpha=0.0001, n_estimators=200, n_jobs=-1, oob_score=False; total time=   0.1s\n",
      "[CV] END bootstrap=False, ccp_alpha=0.0001, n_estimators=200, n_jobs=-1, oob_score=False; total time=   0.1s\n",
      "[CV] END bootstrap=False, ccp_alpha=0.0001, n_estimators=200, n_jobs=-1, oob_score=False; total time=   0.1s\n",
      "[CV] END bootstrap=False, ccp_alpha=0.0001, n_estimators=200, n_jobs=-1, oob_score=False; total time=   0.1s\n",
      "[CV] END bootstrap=False, ccp_alpha=0.0001, n_estimators=200, n_jobs=-1, oob_score=False; total time=   0.1s\n",
      "[CV] END bootstrap=False, ccp_alpha=0.001, n_estimators=100, n_jobs=-1, oob_score=True; total time=   0.0s\n",
      "[CV] END bootstrap=False, ccp_alpha=0.001, n_estimators=100, n_jobs=-1, oob_score=True; total time=   0.0s\n",
      "[CV] END bootstrap=False, ccp_alpha=0.001, n_estimators=100, n_jobs=-1, oob_score=True; total time=   0.0s\n",
      "[CV] END bootstrap=False, ccp_alpha=0.001, n_estimators=100, n_jobs=-1, oob_score=True; total time=   0.0s\n",
      "[CV] END bootstrap=False, ccp_alpha=0.001, n_estimators=100, n_jobs=-1, oob_score=True; total time=   0.0s\n",
      "[CV] END bootstrap=False, ccp_alpha=0.001, n_estimators=100, n_jobs=-1, oob_score=False; total time=   0.0s\n",
      "[CV] END bootstrap=False, ccp_alpha=0.001, n_estimators=100, n_jobs=-1, oob_score=False; total time=   0.0s\n",
      "[CV] END bootstrap=False, ccp_alpha=0.001, n_estimators=100, n_jobs=-1, oob_score=False; total time=   0.0s\n",
      "[CV] END bootstrap=False, ccp_alpha=0.001, n_estimators=100, n_jobs=-1, oob_score=False; total time=   0.0s\n",
      "[CV] END bootstrap=False, ccp_alpha=0.001, n_estimators=100, n_jobs=-1, oob_score=False; total time=   0.0s\n",
      "[CV] END bootstrap=False, ccp_alpha=0.001, n_estimators=200, n_jobs=-1, oob_score=True; total time=   0.0s\n",
      "[CV] END bootstrap=False, ccp_alpha=0.001, n_estimators=200, n_jobs=-1, oob_score=True; total time=   0.0s\n",
      "[CV] END bootstrap=False, ccp_alpha=0.001, n_estimators=200, n_jobs=-1, oob_score=True; total time=   0.0s\n",
      "[CV] END bootstrap=False, ccp_alpha=0.001, n_estimators=200, n_jobs=-1, oob_score=True; total time=   0.0s\n",
      "[CV] END bootstrap=False, ccp_alpha=0.001, n_estimators=200, n_jobs=-1, oob_score=True; total time=   0.0s\n",
      "[CV] END bootstrap=False, ccp_alpha=0.001, n_estimators=200, n_jobs=-1, oob_score=False; total time=   0.1s\n",
      "[CV] END bootstrap=False, ccp_alpha=0.001, n_estimators=200, n_jobs=-1, oob_score=False; total time=   0.1s\n",
      "[CV] END bootstrap=False, ccp_alpha=0.001, n_estimators=200, n_jobs=-1, oob_score=False; total time=   0.1s\n",
      "[CV] END bootstrap=False, ccp_alpha=0.001, n_estimators=200, n_jobs=-1, oob_score=False; total time=   0.1s\n",
      "[CV] END bootstrap=False, ccp_alpha=0.001, n_estimators=200, n_jobs=-1, oob_score=False; total time=   0.1s\n",
      "[CV] END bootstrap=False, ccp_alpha=0.01, n_estimators=100, n_jobs=-1, oob_score=True; total time=   0.0s\n",
      "[CV] END bootstrap=False, ccp_alpha=0.01, n_estimators=100, n_jobs=-1, oob_score=True; total time=   0.0s\n",
      "[CV] END bootstrap=False, ccp_alpha=0.01, n_estimators=100, n_jobs=-1, oob_score=True; total time=   0.0s\n",
      "[CV] END bootstrap=False, ccp_alpha=0.01, n_estimators=100, n_jobs=-1, oob_score=True; total time=   0.0s\n",
      "[CV] END bootstrap=False, ccp_alpha=0.01, n_estimators=100, n_jobs=-1, oob_score=True; total time=   0.0s\n",
      "[CV] END bootstrap=False, ccp_alpha=0.01, n_estimators=100, n_jobs=-1, oob_score=False; total time=   0.0s\n",
      "[CV] END bootstrap=False, ccp_alpha=0.01, n_estimators=100, n_jobs=-1, oob_score=False; total time=   0.0s\n",
      "[CV] END bootstrap=False, ccp_alpha=0.01, n_estimators=100, n_jobs=-1, oob_score=False; total time=   0.0s\n",
      "[CV] END bootstrap=False, ccp_alpha=0.01, n_estimators=100, n_jobs=-1, oob_score=False; total time=   0.0s\n",
      "[CV] END bootstrap=False, ccp_alpha=0.01, n_estimators=100, n_jobs=-1, oob_score=False; total time=   0.0s\n",
      "[CV] END bootstrap=False, ccp_alpha=0.01, n_estimators=200, n_jobs=-1, oob_score=True; total time=   0.0s\n",
      "[CV] END bootstrap=False, ccp_alpha=0.01, n_estimators=200, n_jobs=-1, oob_score=True; total time=   0.0s\n",
      "[CV] END bootstrap=False, ccp_alpha=0.01, n_estimators=200, n_jobs=-1, oob_score=True; total time=   0.0s\n",
      "[CV] END bootstrap=False, ccp_alpha=0.01, n_estimators=200, n_jobs=-1, oob_score=True; total time=   0.0s\n",
      "[CV] END bootstrap=False, ccp_alpha=0.01, n_estimators=200, n_jobs=-1, oob_score=True; total time=   0.0s\n",
      "[CV] END bootstrap=False, ccp_alpha=0.01, n_estimators=200, n_jobs=-1, oob_score=False; total time=   0.1s\n",
      "[CV] END bootstrap=False, ccp_alpha=0.01, n_estimators=200, n_jobs=-1, oob_score=False; total time=   0.1s\n",
      "[CV] END bootstrap=False, ccp_alpha=0.01, n_estimators=200, n_jobs=-1, oob_score=False; total time=   0.1s\n",
      "[CV] END bootstrap=False, ccp_alpha=0.01, n_estimators=200, n_jobs=-1, oob_score=False; total time=   0.1s\n",
      "[CV] END bootstrap=False, ccp_alpha=0.01, n_estimators=200, n_jobs=-1, oob_score=False; total time=   0.1s\n",
      "[CV] END bootstrap=False, ccp_alpha=0.1, n_estimators=100, n_jobs=-1, oob_score=True; total time=   0.0s\n",
      "[CV] END bootstrap=False, ccp_alpha=0.1, n_estimators=100, n_jobs=-1, oob_score=True; total time=   0.0s\n",
      "[CV] END bootstrap=False, ccp_alpha=0.1, n_estimators=100, n_jobs=-1, oob_score=True; total time=   0.0s\n",
      "[CV] END bootstrap=False, ccp_alpha=0.1, n_estimators=100, n_jobs=-1, oob_score=True; total time=   0.0s\n",
      "[CV] END bootstrap=False, ccp_alpha=0.1, n_estimators=100, n_jobs=-1, oob_score=True; total time=   0.0s\n",
      "[CV] END bootstrap=False, ccp_alpha=0.1, n_estimators=100, n_jobs=-1, oob_score=False; total time=   0.0s\n",
      "[CV] END bootstrap=False, ccp_alpha=0.1, n_estimators=100, n_jobs=-1, oob_score=False; total time=   0.0s\n",
      "[CV] END bootstrap=False, ccp_alpha=0.1, n_estimators=100, n_jobs=-1, oob_score=False; total time=   0.0s\n",
      "[CV] END bootstrap=False, ccp_alpha=0.1, n_estimators=100, n_jobs=-1, oob_score=False; total time=   0.0s\n",
      "[CV] END bootstrap=False, ccp_alpha=0.1, n_estimators=100, n_jobs=-1, oob_score=False; total time=   0.0s\n",
      "[CV] END bootstrap=False, ccp_alpha=0.1, n_estimators=200, n_jobs=-1, oob_score=True; total time=   0.0s\n",
      "[CV] END bootstrap=False, ccp_alpha=0.1, n_estimators=200, n_jobs=-1, oob_score=True; total time=   0.0s\n",
      "[CV] END bootstrap=False, ccp_alpha=0.1, n_estimators=200, n_jobs=-1, oob_score=True; total time=   0.0s\n",
      "[CV] END bootstrap=False, ccp_alpha=0.1, n_estimators=200, n_jobs=-1, oob_score=True; total time=   0.0s\n",
      "[CV] END bootstrap=False, ccp_alpha=0.1, n_estimators=200, n_jobs=-1, oob_score=True; total time=   0.0s\n"
     ]
    },
    {
     "name": "stdout",
     "output_type": "stream",
     "text": [
      "[CV] END bootstrap=False, ccp_alpha=0.1, n_estimators=200, n_jobs=-1, oob_score=False; total time=   0.1s\n",
      "[CV] END bootstrap=False, ccp_alpha=0.1, n_estimators=200, n_jobs=-1, oob_score=False; total time=   0.1s\n",
      "[CV] END bootstrap=False, ccp_alpha=0.1, n_estimators=200, n_jobs=-1, oob_score=False; total time=   0.1s\n",
      "[CV] END bootstrap=False, ccp_alpha=0.1, n_estimators=200, n_jobs=-1, oob_score=False; total time=   0.1s\n",
      "[CV] END bootstrap=False, ccp_alpha=0.1, n_estimators=200, n_jobs=-1, oob_score=False; total time=   0.1s\n",
      "[CV] END bootstrap=False, ccp_alpha=1, n_estimators=100, n_jobs=-1, oob_score=True; total time=   0.0s\n",
      "[CV] END bootstrap=False, ccp_alpha=1, n_estimators=100, n_jobs=-1, oob_score=True; total time=   0.0s\n",
      "[CV] END bootstrap=False, ccp_alpha=1, n_estimators=100, n_jobs=-1, oob_score=True; total time=   0.0s\n",
      "[CV] END bootstrap=False, ccp_alpha=1, n_estimators=100, n_jobs=-1, oob_score=True; total time=   0.0s\n",
      "[CV] END bootstrap=False, ccp_alpha=1, n_estimators=100, n_jobs=-1, oob_score=True; total time=   0.0s\n",
      "[CV] END bootstrap=False, ccp_alpha=1, n_estimators=100, n_jobs=-1, oob_score=False; total time=   0.0s\n",
      "[CV] END bootstrap=False, ccp_alpha=1, n_estimators=100, n_jobs=-1, oob_score=False; total time=   0.0s\n",
      "[CV] END bootstrap=False, ccp_alpha=1, n_estimators=100, n_jobs=-1, oob_score=False; total time=   0.0s\n",
      "[CV] END bootstrap=False, ccp_alpha=1, n_estimators=100, n_jobs=-1, oob_score=False; total time=   0.0s\n",
      "[CV] END bootstrap=False, ccp_alpha=1, n_estimators=100, n_jobs=-1, oob_score=False; total time=   0.0s\n",
      "[CV] END bootstrap=False, ccp_alpha=1, n_estimators=200, n_jobs=-1, oob_score=True; total time=   0.0s\n",
      "[CV] END bootstrap=False, ccp_alpha=1, n_estimators=200, n_jobs=-1, oob_score=True; total time=   0.0s\n",
      "[CV] END bootstrap=False, ccp_alpha=1, n_estimators=200, n_jobs=-1, oob_score=True; total time=   0.0s\n",
      "[CV] END bootstrap=False, ccp_alpha=1, n_estimators=200, n_jobs=-1, oob_score=True; total time=   0.0s\n",
      "[CV] END bootstrap=False, ccp_alpha=1, n_estimators=200, n_jobs=-1, oob_score=True; total time=   0.0s\n",
      "[CV] END bootstrap=False, ccp_alpha=1, n_estimators=200, n_jobs=-1, oob_score=False; total time=   0.1s\n",
      "[CV] END bootstrap=False, ccp_alpha=1, n_estimators=200, n_jobs=-1, oob_score=False; total time=   0.1s\n",
      "[CV] END bootstrap=False, ccp_alpha=1, n_estimators=200, n_jobs=-1, oob_score=False; total time=   0.1s\n",
      "[CV] END bootstrap=False, ccp_alpha=1, n_estimators=200, n_jobs=-1, oob_score=False; total time=   0.1s\n",
      "[CV] END bootstrap=False, ccp_alpha=1, n_estimators=200, n_jobs=-1, oob_score=False; total time=   0.1s\n",
      "[CV] END bootstrap=False, ccp_alpha=2, n_estimators=100, n_jobs=-1, oob_score=True; total time=   0.0s\n",
      "[CV] END bootstrap=False, ccp_alpha=2, n_estimators=100, n_jobs=-1, oob_score=True; total time=   0.0s\n",
      "[CV] END bootstrap=False, ccp_alpha=2, n_estimators=100, n_jobs=-1, oob_score=True; total time=   0.0s\n",
      "[CV] END bootstrap=False, ccp_alpha=2, n_estimators=100, n_jobs=-1, oob_score=True; total time=   0.0s\n",
      "[CV] END bootstrap=False, ccp_alpha=2, n_estimators=100, n_jobs=-1, oob_score=True; total time=   0.0s\n",
      "[CV] END bootstrap=False, ccp_alpha=2, n_estimators=100, n_jobs=-1, oob_score=False; total time=   0.0s\n",
      "[CV] END bootstrap=False, ccp_alpha=2, n_estimators=100, n_jobs=-1, oob_score=False; total time=   0.0s\n",
      "[CV] END bootstrap=False, ccp_alpha=2, n_estimators=100, n_jobs=-1, oob_score=False; total time=   0.0s\n",
      "[CV] END bootstrap=False, ccp_alpha=2, n_estimators=100, n_jobs=-1, oob_score=False; total time=   0.0s\n",
      "[CV] END bootstrap=False, ccp_alpha=2, n_estimators=100, n_jobs=-1, oob_score=False; total time=   0.0s\n",
      "[CV] END bootstrap=False, ccp_alpha=2, n_estimators=200, n_jobs=-1, oob_score=True; total time=   0.0s\n",
      "[CV] END bootstrap=False, ccp_alpha=2, n_estimators=200, n_jobs=-1, oob_score=True; total time=   0.0s\n",
      "[CV] END bootstrap=False, ccp_alpha=2, n_estimators=200, n_jobs=-1, oob_score=True; total time=   0.0s\n",
      "[CV] END bootstrap=False, ccp_alpha=2, n_estimators=200, n_jobs=-1, oob_score=True; total time=   0.0s\n",
      "[CV] END bootstrap=False, ccp_alpha=2, n_estimators=200, n_jobs=-1, oob_score=True; total time=   0.0s\n",
      "[CV] END bootstrap=False, ccp_alpha=2, n_estimators=200, n_jobs=-1, oob_score=False; total time=   0.1s\n",
      "[CV] END bootstrap=False, ccp_alpha=2, n_estimators=200, n_jobs=-1, oob_score=False; total time=   0.1s\n",
      "[CV] END bootstrap=False, ccp_alpha=2, n_estimators=200, n_jobs=-1, oob_score=False; total time=   0.1s\n",
      "[CV] END bootstrap=False, ccp_alpha=2, n_estimators=200, n_jobs=-1, oob_score=False; total time=   0.1s\n",
      "[CV] END bootstrap=False, ccp_alpha=2, n_estimators=200, n_jobs=-1, oob_score=False; total time=   0.1s\n"
     ]
    },
    {
     "name": "stderr",
     "output_type": "stream",
     "text": [
      "C:\\ProgramData\\Anaconda3\\lib\\site-packages\\sklearn\\model_selection\\_validation.py:372: FitFailedWarning: \n",
      "70 fits failed out of a total of 280.\n",
      "The score on these train-test partitions for these parameters will be set to nan.\n",
      "If these failures are not expected, you can try to debug them by setting error_score='raise'.\n",
      "\n",
      "Below are more details about the failures:\n",
      "--------------------------------------------------------------------------------\n",
      "70 fits failed with the following error:\n",
      "Traceback (most recent call last):\n",
      "  File \"C:\\ProgramData\\Anaconda3\\lib\\site-packages\\sklearn\\model_selection\\_validation.py\", line 680, in _fit_and_score\n",
      "    estimator.fit(X_train, y_train, **fit_params)\n",
      "  File \"C:\\ProgramData\\Anaconda3\\lib\\site-packages\\sklearn\\ensemble\\_forest.py\", line 411, in fit\n",
      "    raise ValueError(\"Out of bag estimation only available if bootstrap=True\")\n",
      "ValueError: Out of bag estimation only available if bootstrap=True\n",
      "\n",
      "  warnings.warn(some_fits_failed_message, FitFailedWarning)\n",
      "C:\\ProgramData\\Anaconda3\\lib\\site-packages\\sklearn\\model_selection\\_search.py:969: UserWarning: One or more of the test scores are non-finite: [0.97392612 0.97175221 0.97103019 0.97247423 0.97320149 0.97610004\n",
      " 0.97031078 0.96741223 0.962345   0.96306964 0.9645163  0.96813425\n",
      " 0.87979909 0.89427615 0.88414168 0.89356721 0.7038377  0.7038377\n",
      " 0.7038377  0.7038377  0.7038377  0.7038377  0.7038377  0.7038377\n",
      " 0.7038377  0.7038377  0.7038377  0.7038377         nan 0.97537017\n",
      "        nan 0.97392351        nan 0.97464815        nan 0.9753754\n",
      "        nan 0.96741746        nan 0.96958615        nan 0.89066604\n",
      "        nan 0.8921127         nan 0.7038377         nan 0.7038377\n",
      "        nan 0.7038377         nan 0.7038377         nan 0.7038377\n",
      "        nan 0.7038377 ]\n",
      "  warnings.warn(\n"
     ]
    },
    {
     "data": {
      "text/plain": [
       "GridSearchCV(cv=5, estimator=RandomForestClassifier(),\n",
       "             param_grid={'bootstrap': [True, False],\n",
       "                         'ccp_alpha': [1e-05, 0.0001, 0.001, 0.01, 0.1, 1, 2],\n",
       "                         'n_estimators': [100, 200], 'n_jobs': [-1],\n",
       "                         'oob_score': [True, False]},\n",
       "             scoring='accuracy', verbose=2)"
      ]
     },
     "execution_count": 34,
     "metadata": {},
     "output_type": "execute_result"
    }
   ],
   "source": [
    "gs_rf.fit(x_train , y_train)"
   ]
  },
  {
   "cell_type": "code",
   "execution_count": 35,
   "id": "11f95bc0",
   "metadata": {},
   "outputs": [
    {
     "name": "stdout",
     "output_type": "stream",
     "text": [
      "0.9761000366242871\n"
     ]
    }
   ],
   "source": [
    "print(gs_rf.best_score_)"
   ]
  },
  {
   "cell_type": "code",
   "execution_count": 36,
   "id": "d7e625db",
   "metadata": {},
   "outputs": [
    {
     "name": "stdout",
     "output_type": "stream",
     "text": [
      "{'bootstrap': True, 'ccp_alpha': 0.0001, 'n_estimators': 100, 'n_jobs': -1, 'oob_score': False}\n"
     ]
    }
   ],
   "source": [
    "print(gs_rf.best_params_)"
   ]
  },
  {
   "cell_type": "code",
   "execution_count": null,
   "id": "9b60a490",
   "metadata": {},
   "outputs": [],
   "source": []
  },
  {
   "cell_type": "code",
   "execution_count": null,
   "id": "3fd46424",
   "metadata": {},
   "outputs": [],
   "source": []
  }
 ],
 "metadata": {
  "kernelspec": {
   "display_name": "Python 3 (ipykernel)",
   "language": "python",
   "name": "python3"
  },
  "language_info": {
   "codemirror_mode": {
    "name": "ipython",
    "version": 3
   },
   "file_extension": ".py",
   "mimetype": "text/x-python",
   "name": "python",
   "nbconvert_exporter": "python",
   "pygments_lexer": "ipython3",
   "version": "3.9.13"
  }
 },
 "nbformat": 4,
 "nbformat_minor": 5
}
